{
 "cells": [
  {
   "cell_type": "code",
   "execution_count": 1,
   "id": "6f8b2423",
   "metadata": {},
   "outputs": [],
   "source": [
    "import java.util.*;"
   ]
  },
  {
   "cell_type": "code",
   "execution_count": 6,
   "id": "039e1ab8",
   "metadata": {},
   "outputs": [],
   "source": [
    "import java.util.*;\n",
    "import java.util.stream.Collectors;\n",
    "class Solution{\n",
    "    public int solution(int[] scoville, int k){\n",
    "        int answer = 0;\n",
    "        \n",
    "        Queue<Integer> pq = new PriorityQueue<Integer>();\n",
    "        pq.addAll(Arrays.stream(scoville).boxed().collect(Collectors.toList()));\n",
    "        \n",
    "        while(pq.peek() < k){\n",
    "            if(pq.size() == 1){\n",
    "                return -1;\n",
    "            }\n",
    "            \n",
    "            int first = pq.poll();\n",
    "            int second = pq.poll();\n",
    "            pq.offer(first + second*2);\n",
    "            answer++;    \n",
    "        }\n",
    "        \n",
    "        return answer;\n",
    "    }\n",
    "}"
   ]
  },
  {
   "cell_type": "code",
   "execution_count": 7,
   "id": "55a5d071",
   "metadata": {},
   "outputs": [
    {
     "data": {
      "text/plain": [
       "2"
      ]
     },
     "execution_count": 7,
     "metadata": {},
     "output_type": "execute_result"
    }
   ],
   "source": [
    "int[] s = {1, 2, 3, 9, 10, 12};\n",
    "int k = 7;\n",
    "\n",
    "Solution sol = new Solution();\n",
    "sol.solution(s,k);"
   ]
  },
  {
   "cell_type": "code",
   "execution_count": null,
   "id": "263f4163",
   "metadata": {},
   "outputs": [],
   "source": []
  },
  {
   "cell_type": "code",
   "execution_count": null,
   "id": "eebeca68",
   "metadata": {},
   "outputs": [],
   "source": []
  },
  {
   "cell_type": "code",
   "execution_count": null,
   "id": "b1a45eda",
   "metadata": {},
   "outputs": [],
   "source": []
  },
  {
   "cell_type": "code",
   "execution_count": null,
   "id": "289fd017",
   "metadata": {},
   "outputs": [],
   "source": []
  },
  {
   "cell_type": "code",
   "execution_count": null,
   "id": "e30e93c2",
   "metadata": {},
   "outputs": [],
   "source": []
  },
  {
   "cell_type": "code",
   "execution_count": null,
   "id": "306aea26",
   "metadata": {},
   "outputs": [],
   "source": []
  },
  {
   "cell_type": "code",
   "execution_count": null,
   "id": "5ce8760c",
   "metadata": {},
   "outputs": [],
   "source": []
  },
  {
   "cell_type": "code",
   "execution_count": null,
   "id": "ce6fd83b",
   "metadata": {},
   "outputs": [],
   "source": []
  },
  {
   "cell_type": "code",
   "execution_count": null,
   "id": "47e5c476",
   "metadata": {},
   "outputs": [],
   "source": []
  },
  {
   "cell_type": "code",
   "execution_count": null,
   "id": "0c4f7cf5",
   "metadata": {},
   "outputs": [],
   "source": []
  },
  {
   "cell_type": "code",
   "execution_count": null,
   "id": "3f3c07f1",
   "metadata": {},
   "outputs": [],
   "source": []
  },
  {
   "cell_type": "code",
   "execution_count": null,
   "id": "338034fb",
   "metadata": {},
   "outputs": [],
   "source": []
  },
  {
   "cell_type": "code",
   "execution_count": null,
   "id": "58e95518",
   "metadata": {},
   "outputs": [],
   "source": []
  }
 ],
 "metadata": {
  "kernelspec": {
   "display_name": "Java",
   "language": "java",
   "name": "java"
  },
  "language_info": {
   "codemirror_mode": "java",
   "file_extension": ".jshell",
   "mimetype": "text/x-java-source",
   "name": "Java",
   "pygments_lexer": "java",
   "version": "17.0.4.1+1"
  },
  "vscode": {
   "interpreter": {
    "hash": "27682476a494b2d0cb0210eb09f7dae4f44f6935d4739ee0a808fc5af13a7f8f"
   }
  }
 },
 "nbformat": 4,
 "nbformat_minor": 5
}
