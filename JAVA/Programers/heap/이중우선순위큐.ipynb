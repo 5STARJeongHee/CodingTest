{
 "cells": [
  {
   "cell_type": "code",
   "execution_count": null,
   "id": "c133a842",
   "metadata": {},
   "outputs": [],
   "source": []
  },
  {
   "cell_type": "code",
   "execution_count": null,
   "id": "9782c8b6",
   "metadata": {},
   "outputs": [],
   "source": []
  },
  {
   "cell_type": "code",
   "execution_count": null,
   "id": "6e5fc7d6",
   "metadata": {},
   "outputs": [],
   "source": []
  },
  {
   "cell_type": "code",
   "execution_count": null,
   "id": "adef0798",
   "metadata": {},
   "outputs": [],
   "source": []
  },
  {
   "cell_type": "code",
   "execution_count": 10,
   "id": "eec6bdfe",
   "metadata": {
    "scrolled": true
   },
   "outputs": [],
   "source": [
    "import java.util.*;\n",
    "\n",
    "class Solution {\n",
    "    public int[] solution(String[] operations) {\n",
    "        int[] answer = new int[2];\n",
    "        PriorityQueue<Integer> minQ = new PriorityQueue<>((o1,o2) -> o1 - o2);\n",
    "        PriorityQueue<Integer> maxQ = new PriorityQueue<>((o1,o2) -> o2 - o1);\n",
    "        \n",
    "        for(String command: operations){\n",
    "            executeCommand(command, maxQ, minQ);\n",
    "        }\n",
    "        if(minQ.isEmpty()){\n",
    "            answer[0] = 0;\n",
    "            answer[1] = 0;\n",
    "        }else {\n",
    "            answer[0] = maxQ.poll();\n",
    "            answer[1] = minQ.poll();\n",
    "        }\n",
    "        return answer;\n",
    "    }\n",
    "    \n",
    "    public void executeCommand(String command, PriorityQueue<Integer> maxQ, PriorityQueue<Integer> minQ){\n",
    "        Integer value;\n",
    "        if(command.startsWith(\"I \")){\n",
    "            value = Integer.valueOf(command.split(\" \")[1]);\n",
    "            minQ.offer(value);\n",
    "            maxQ.offer(value);\n",
    "        }else if(command.startsWith(\"D -\")){\n",
    "            value = minQ.poll();\n",
    "            if(value != null){\n",
    "                maxQ.remove(value);\n",
    "            }\n",
    "        }else{\n",
    "            value = maxQ.poll();\n",
    "            if(value != null){\n",
    "                minQ.remove(value);\n",
    "            }\n",
    "        }\n",
    "    }\n",
    "}"
   ]
  },
  {
   "cell_type": "code",
   "execution_count": 11,
   "id": "1e87ebd6",
   "metadata": {},
   "outputs": [
    {
     "name": "stdout",
     "output_type": "stream",
     "text": [
      "0,0\r\n"
     ]
    }
   ],
   "source": [
    "String[] operations = {\"I 16\", \"I -5643\", \"D -1\", \"D 1\", \"D 1\", \"I 123\", \"D -1\"};\n",
    "Solution sol = new Solution();\n",
    "int[] answer = sol.solution(operations);\n",
    "System.out.println(answer[0]+\",\"+answer[1]);"
   ]
  },
  {
   "cell_type": "code",
   "execution_count": 12,
   "id": "fb8d001f",
   "metadata": {},
   "outputs": [
    {
     "name": "stdout",
     "output_type": "stream",
     "text": [
      "333,-45\r\n"
     ]
    }
   ],
   "source": [
    "String[] operations = {\"I -45\", \"I 653\", \"D 1\", \"I -642\", \"I 45\", \"I 97\", \"D 1\", \"D -1\", \"I 333\"};\n",
    "Solution sol = new Solution();\n",
    "int[] answer = sol.solution(operations);\n",
    "System.out.println(answer[0]+\",\"+answer[1]);"
   ]
  },
  {
   "cell_type": "code",
   "execution_count": null,
   "id": "d36e79d9",
   "metadata": {},
   "outputs": [],
   "source": []
  },
  {
   "cell_type": "code",
   "execution_count": null,
   "id": "709cb59e",
   "metadata": {},
   "outputs": [],
   "source": []
  },
  {
   "cell_type": "code",
   "execution_count": null,
   "id": "e2d003b8",
   "metadata": {},
   "outputs": [],
   "source": []
  },
  {
   "cell_type": "code",
   "execution_count": null,
   "id": "ebd1b469",
   "metadata": {},
   "outputs": [],
   "source": []
  }
 ],
 "metadata": {
  "kernelspec": {
   "display_name": "Java",
   "language": "java",
   "name": "java"
  },
  "language_info": {
   "codemirror_mode": "java",
   "file_extension": ".jshell",
   "mimetype": "text/x-java-source",
   "name": "Java",
   "pygments_lexer": "java",
   "version": "17.0.4.1+1"
  }
 },
 "nbformat": 4,
 "nbformat_minor": 5
}
