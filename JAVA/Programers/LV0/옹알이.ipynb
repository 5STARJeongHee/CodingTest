{
 "cells": [
  {
   "cell_type": "markdown",
   "metadata": {},
   "source": [
    "# 옹알이(1)\n",
    "## 프로그래머스 0단계\n",
    "\n",
    "```html\n",
    "머쓱이는 태어난 지 6개월 된 조카를 돌보고 있습니다. 조카는 아직 \"aya\", \"ye\", \"woo\", \"ma\" 네 가지 발음을 최대 한 번씩 사용해 조합한(이어 붙인) 발음밖에 하지 못합니다. 문자열 배열 babbling이 매개변수로 주어질 때, 머쓱이의 조카가 발음할 수 있는 단어의 개수를 return하도록 solution 함수를 완성해주세요.\n",
    "\n",
    "제한사항\n",
    "1 ≤ babbling의 길이 ≤ 100\n",
    "1 ≤ babbling[i]의 길이 ≤ 15\n",
    "babbling의 각 문자열에서 \"aya\", \"ye\", \"woo\", \"ma\"는 각각 최대 한 번씩만 등장합니다.\n",
    "즉, 각 문자열의 가능한 모든 부분 문자열 중에서 \"aya\", \"ye\", \"woo\", \"ma\"가 한 번씩만 등장합니다.\n",
    "문자열은 알파벳 소문자로만 이루어져 있습니다.\n",
    "입출력 예\n",
    "babbling\tresult\n",
    "[\"aya\", \"yee\", \"u\", \"maa\", \"wyeoo\"]\t1\n",
    "[\"ayaye\", \"uuuma\", \"ye\", \"yemawoo\", \"ayaa\"]\t3\n",
    "입출력 예 설명\n",
    "입출력 예 #1\n",
    "\n",
    "[\"aya\", \"yee\", \"u\", \"maa\", \"wyeoo\"]에서 발음할 수 있는 것은 \"aya\"뿐입니다. 따라서 1을 return합니다.\n",
    "입출력 예 #2\n",
    "\n",
    "[\"ayaye\", \"uuuma\", \"ye\", \"yemawoo\", \"ayaa\"]에서 발음할 수 있는 것은 \"aya\" + \"ye\" = \"ayaye\", \"ye\", \"ye\" + \"ma\" + \"woo\" = \"yemawoo\"로 3개입니다. 따라서 3을 return합니다.\n",
    "유의사항\n",
    "네 가지를 붙여 만들 수 있는 발음 이외에는 어떤 발음도 할 수 없는 것으로 규정합니다. 예를 들어 \"woowo\"는 \"woo\"는 발음할 수 있지만 \"wo\"를 발음할 수 없기 때문에 할 수 없는 발음입니다.\n",
    "```"
   ]
  },
  {
   "cell_type": "code",
   "execution_count": 12,
   "metadata": {
    "vscode": {
     "languageId": "java"
    }
   },
   "outputs": [],
   "source": [
    "public int solution(String[] babbling) {\n",
    "        int answer = 0;\n",
    "        String[] canBabble = {\"aya\", \"ye\", \"woo\", \"ma\"};\n",
    "\n",
    "        for(int i = 0; i< babbling.length; i++){\n",
    "            for(int j = 0; j< canBabble.length; j++){\n",
    "                babbling[i] = babbling[i].replace(canBabble[j], \" \"); // replace all 에서 replace 로 변경 최대 한번만 발음하는 것으로 바꾸려면 이렇게 한번만 바꿔야 된다.\n",
    "                if(babbling[i].trim().length() == 0){\n",
    "                    answer++;\n",
    "                    break;\n",
    "                }\n",
    "            }\n",
    "        }\n",
    "        return answer;\n",
    "    }"
   ]
  },
  {
   "cell_type": "code",
   "execution_count": 4,
   "metadata": {
    "vscode": {
     "languageId": "java"
    }
   },
   "outputs": [
    {
     "name": "stdout",
     "output_type": "stream",
     "text": [
      "1\n",
      "2\n"
     ]
    }
   ],
   "source": [
    "String[] input = {\"aya\", \"yee\", \"u\", \"maa\", \"wyeoo\"};\n",
    "String[] input2 = {\"ayaye\", \"uuuma\", \"ye\", \"yemaw\"};\n",
    "\n",
    "System.out.println(solution(input));\n",
    "System.out.println(solution(input2));"
   ]
  },
  {
   "cell_type": "markdown",
   "metadata": {},
   "source": [
    "## 다른 사람 best 풀이\n",
    "\n",
    "\n",
    "```java\n",
    "\n",
    "class Solution {\n",
    "    public int solution(String[] babbling) {\n",
    "        int answer = 0;\n",
    "        for(int i=0; i<babbling.length; i++){\n",
    "            if(babbling[i].matches(\"^(aya(?!aya)|ye(?!ye)|woo(?!woo)|ma(?!ma))+$\")){\n",
    "                answer++;\n",
    "            }\n",
    "        }\n",
    "        return answer;\n",
    "    }\n",
    "}\n",
    "```\n",
    "\n",
    "정규표현식의 전방 후방 부정형에 대한 정규표현식을 이용함\n",
    "\n",
    "긍정/부정 전방/후방 탐색 정규표현식에 대해서 알아야하는데\n",
    "긍정/부정 과 전방/후방 각각 하나씩 조합하여 사용한다.\n",
    "\n",
    "후방탐색 단어 전방탐색\n",
    "(?<=[후방탐색])매칭될 문자열(?=[전방탐색])\n",
    "\n",
    "출처: https://seahrin.com/entry/정규표현식regex에서-의-의미는-무엇일까요 [소프트웨어 장인:티스토리]\n",
    "\n",
    "\n",
    "긍정은 find\n",
    "부정은 not find\n",
    "\n",
    "전방은 찾는 대상이 앞부분에 있다는 것 ex) (?=) , (?!)\n",
    "후방은 찾는 대상이 뒷부분에 있다는 것 ex) (?<=) , (?<!)\n",
    "\n",
    "긍정 전방 - (?=) 일치하는 문자열을 찾되 문자열을 제외한 그 앞의 문자열을 출력\n",
    "긍정 후방 - (?<=) 일치하는 문자열을 찾되 문자열을 제외한 그 뒤의 문자열을 출력\n",
    "부정형 전방 - (?!) 일치하는 문자열과 붙어 있지 않은 그 앞의 문자열을 출력\n",
    "부정형 후방 - (?<!) 일치하는 문자열과 붙어 있지 않은 그 뒤의 문자열을 출력\n",
    "\n",
    "\n",
    "ex)\n",
    "전방 긍정 100원, 200 원 -> \\d+(?=원) -> 100, 200\n",
    "\n",
    "\n",
    "후방 긍정 $100, $200 -> (?<=$)\\d+ -> 100, 20\n",
    "\n",
    "전방 부정 100원 , 200원 -> \\d+(?!원) -> 10, 20\n",
    "\n",
    "후방 부정 $100, $200 -> (?<!$)\\d+ -> 00, 00\n",
    "\n",
    "\n",
    "이제 위의 정규표현식을 해석하자면 \n",
    "\n",
    "aya(?!aya) 는 전방 문자열을 탐색하는데 ayaaya 처럼 이중으로 붙지 않은 문자열을 검색하며 aya인 것을 찾는다 즉 중복되지 안흔 문자열을 찾는 것이고\n",
    "\n",
    "() 그룹으로 감싸져서 1 개 이상의 aya, ye, woo, ma의 중복되지 않는 문자열 그룹을 검색한다.\n",
    "\n",
    "\n",
    "\n",
    "-----\n",
    "위의 다른 사람 답글들을 보면\n",
    "\n",
    "문제에 테스트 케이스가 추가되면 틀릴 수 있는 문제긴하다\n",
    "\n",
    "ayayeaya 와 같이 \"aya\"가 2번 쓰이지만 발음이 가능할 것 같은 테스트 케이스는 \n",
    "최대 한번씩 사용해 조합한 발음이라는 조건에 맞지 않으므로 틀릴 수 있다."
   ]
  },
  {
   "cell_type": "code",
   "execution_count": 3,
   "metadata": {
    "vscode": {
     "languageId": "java"
    }
   },
   "outputs": [],
   "source": [
    "public int solution(String[] babbling) {\n",
    "    int answer = 0;\n",
    "    for(int i=0; i<babbling.length; i++){\n",
    "        if(babbling[i].matches(\"^(aya(?!aya)|ye(?!ye)|woo(?!woo)|ma(?!ma))+$\")){\n",
    "            answer++;\n",
    "        }\n",
    "    }\n",
    "    return answer;\n",
    "}"
   ]
  },
  {
   "cell_type": "code",
   "execution_count": null,
   "metadata": {
    "vscode": {
     "languageId": "java"
    }
   },
   "outputs": [],
   "source": []
  }
 ],
 "metadata": {
  "kernelspec": {
   "display_name": "Java",
   "language": "java",
   "name": "java"
  },
  "language_info": {
   "codemirror_mode": "java",
   "file_extension": ".jshell",
   "mimetype": "text/x-java-source",
   "name": "Java",
   "pygments_lexer": "java",
   "version": "17.0.4.1+1"
  }
 },
 "nbformat": 4,
 "nbformat_minor": 2
}
