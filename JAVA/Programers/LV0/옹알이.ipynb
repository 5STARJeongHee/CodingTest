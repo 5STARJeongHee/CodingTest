{
 "cells": [
  {
   "cell_type": "markdown",
   "metadata": {},
   "source": [
    "# 옹알이(1)\n",
    "## 프로그래머스 0단계\n",
    "\n",
    "```html\n",
    "머쓱이는 태어난 지 6개월 된 조카를 돌보고 있습니다. 조카는 아직 \"aya\", \"ye\", \"woo\", \"ma\" 네 가지 발음을 최대 한 번씩 사용해 조합한(이어 붙인) 발음밖에 하지 못합니다. 문자열 배열 babbling이 매개변수로 주어질 때, 머쓱이의 조카가 발음할 수 있는 단어의 개수를 return하도록 solution 함수를 완성해주세요.\n",
    "\n",
    "제한사항\n",
    "1 ≤ babbling의 길이 ≤ 100\n",
    "1 ≤ babbling[i]의 길이 ≤ 15\n",
    "babbling의 각 문자열에서 \"aya\", \"ye\", \"woo\", \"ma\"는 각각 최대 한 번씩만 등장합니다.\n",
    "즉, 각 문자열의 가능한 모든 부분 문자열 중에서 \"aya\", \"ye\", \"woo\", \"ma\"가 한 번씩만 등장합니다.\n",
    "문자열은 알파벳 소문자로만 이루어져 있습니다.\n",
    "입출력 예\n",
    "babbling\tresult\n",
    "[\"aya\", \"yee\", \"u\", \"maa\", \"wyeoo\"]\t1\n",
    "[\"ayaye\", \"uuuma\", \"ye\", \"yemawoo\", \"ayaa\"]\t3\n",
    "입출력 예 설명\n",
    "입출력 예 #1\n",
    "\n",
    "[\"aya\", \"yee\", \"u\", \"maa\", \"wyeoo\"]에서 발음할 수 있는 것은 \"aya\"뿐입니다. 따라서 1을 return합니다.\n",
    "입출력 예 #2\n",
    "\n",
    "[\"ayaye\", \"uuuma\", \"ye\", \"yemawoo\", \"ayaa\"]에서 발음할 수 있는 것은 \"aya\" + \"ye\" = \"ayaye\", \"ye\", \"ye\" + \"ma\" + \"woo\" = \"yemawoo\"로 3개입니다. 따라서 3을 return합니다.\n",
    "유의사항\n",
    "네 가지를 붙여 만들 수 있는 발음 이외에는 어떤 발음도 할 수 없는 것으로 규정합니다. 예를 들어 \"woowo\"는 \"woo\"는 발음할 수 있지만 \"wo\"를 발음할 수 없기 때문에 할 수 없는 발음입니다.\n",
    "```"
   ]
  },
  {
   "cell_type": "code",
   "execution_count": 12,
   "metadata": {
    "vscode": {
     "languageId": "java"
    }
   },
   "outputs": [],
   "source": [
    "public int solution(String[] babbling) {\n",
    "        int answer = 0;\n",
    "        String[] canBabble = {\"aya\", \"ye\", \"woo\", \"ma\"};\n",
    "\n",
    "        for(int i = 0; i< babbling.length; i++){\n",
    "            for(int j = 0; j< canBabble.length; j++){\n",
    "                babbling[i] = babbling[i].replaceAll(canBabble[j], \" \");\n",
    "                if(babbling[i].trim().length() == 0){\n",
    "                    answer++;\n",
    "                    break;\n",
    "                }\n",
    "            }\n",
    "        }\n",
    "        return answer;\n",
    "    }"
   ]
  },
  {
   "cell_type": "code",
   "execution_count": 13,
   "metadata": {
    "vscode": {
     "languageId": "java"
    }
   },
   "outputs": [
    {
     "name": "stdout",
     "output_type": "stream",
     "text": [
      "step [0,0] \n",
      " \n",
      "step [1,0]yee\n",
      "step [1,1] e\n",
      "step [1,2] e\n",
      "step [1,3] e\n",
      " e\n",
      "step [2,0]u\n",
      "step [2,1]u\n",
      "step [2,2]u\n",
      "step [2,3]u\n",
      "u\n",
      "step [3,0]maa\n",
      "step [3,1]maa\n",
      "step [3,2]maa\n",
      "step [3,3] a\n",
      " a\n",
      "step [4,0]wyeoo\n",
      "step [4,1]w oo\n",
      "step [4,2]w oo\n",
      "step [4,3]w oo\n",
      "w oo\n",
      "1\n",
      "step [0,0] ye\n",
      "step [0,1]  \n",
      "  \n",
      "step [1,0]uuuma\n",
      "step [1,1]uuuma\n",
      "step [1,2]uuuma\n",
      "step [1,3]uuu \n",
      "uuu \n",
      "step [2,0]ye\n",
      "step [2,1] \n",
      " \n",
      "step [3,0]yemaw\n",
      "step [3,1] maw\n",
      "step [3,2] maw\n",
      "step [3,3]  w\n",
      "  w\n",
      "2\n"
     ]
    }
   ],
   "source": [
    "String[] input = {\"aya\", \"yee\", \"u\", \"maa\", \"wyeoo\"};\n",
    "String[] input2 = {\"ayaye\", \"uuuma\", \"ye\", \"yemaw\"};\n",
    "\n",
    "System.out.println(solution(input));\n",
    "System.out.println(solution(input2));"
   ]
  },
  {
   "cell_type": "markdown",
   "metadata": {},
   "source": [
    "## 다른 사람 best 풀이\n",
    "\n",
    "정규 표현식으로 원턴킬에 끝내버렸다....\n",
    "\n",
    "```java\n",
    "\n",
    "class Solution {\n",
    "    public int solution(String[] babbling) {\n",
    "        int answer = 0;\n",
    "        for(int i=0; i<babbling.length; i++){\n",
    "            if(babbling[i].matches(\"^(aya(?!aya)|ye(?!ye)|woo(?!woo)|ma(?!ma))+$\")){\n",
    "                answer++;\n",
    "            }\n",
    "        }\n",
    "        return answer;\n",
    "    }\n",
    "}\n",
    "```\n",
    "\n",
    "정규표현식의 전방 후방 부정형에 대한 정규표현식을 이용함\n",
    "위의 (?!aya) 와 같은 패턴은 부정형 정규표현식으로\n",
    "전방 후방 조건으로 걸린 패턴의 반대로 적용한다.\n",
    "\n"
   ]
  },
  {
   "cell_type": "code",
   "execution_count": null,
   "metadata": {
    "vscode": {
     "languageId": "java"
    }
   },
   "outputs": [],
   "source": []
  }
 ],
 "metadata": {
  "kernelspec": {
   "display_name": "Java",
   "language": "java",
   "name": "java"
  },
  "language_info": {
   "codemirror_mode": "java",
   "file_extension": ".jshell",
   "mimetype": "text/x-java-source",
   "name": "Java",
   "pygments_lexer": "java",
   "version": "17.0.4.1+1"
  }
 },
 "nbformat": 4,
 "nbformat_minor": 2
}
