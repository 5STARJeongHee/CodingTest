{
 "cells": [
  {
   "cell_type": "markdown",
   "metadata": {},
   "source": [
    "### 문자열 출력하기\n",
    "문자열 str이 주어질 때, str을 출력하는 코드를 작성해 보세요.\n",
    "\n",
    "제한사항\n",
    "1 ≤ str의 길이 ≤ 1,000,000\n",
    "str에는 공백이 없으며, 첫째 줄에 한 줄로만 주어집니다."
   ]
  },
  {
   "cell_type": "code",
   "execution_count": 9,
   "metadata": {
    "vscode": {
     "languageId": "java"
    }
   },
   "outputs": [],
   "source": [
    "import java.util.Scanner;\n",
    "\n",
    "\n",
    "public void main() {\n",
    "    Scanner sc = new Scanner(System.in);\n",
    "    String a = sc.next();\n",
    "    System.out.println(a);\n",
    "}\n"
   ]
  },
  {
   "cell_type": "code",
   "execution_count": 10,
   "metadata": {
    "vscode": {
     "languageId": "java"
    }
   },
   "outputs": [
    {
     "name": "stdout",
     "output_type": "stream",
     "text": [
      "HelloWorld!\n"
     ]
    }
   ],
   "source": [
    "main();"
   ]
  }
 ],
 "metadata": {
  "kernelspec": {
   "display_name": "Java",
   "language": "java",
   "name": "java"
  },
  "language_info": {
   "codemirror_mode": "java",
   "file_extension": ".jshell",
   "mimetype": "text/x-java-source",
   "name": "Java",
   "pygments_lexer": "java",
   "version": "17.0.4.1+1"
  }
 },
 "nbformat": 4,
 "nbformat_minor": 2
}
