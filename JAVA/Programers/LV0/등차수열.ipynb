{
 "cells": [
  {
   "cell_type": "markdown",
   "metadata": {},
   "source": [
    "## 프로그래머스 0레벨\n",
    "## 등차수열의 특정한 항만 더하기\n",
    "\n",
    "문제 설명\n",
    "두 정수 a, d와 길이가 n인 boolean 배열 included가 주어집니다. 첫째항이 a, 공차가 d인 등차수열에서 included[i]가 i + 1항을 의미할 때, 이 등차수열의 1항부터 n항까지 included가 true인 항들만 더한 값을 return 하는 solution 함수를 작성해 주세요.\n",
    "\n",
    "제한사항\n",
    "1 ≤ a ≤ 100\n",
    "1 ≤ d ≤ 100\n",
    "1 ≤ included의 길이 ≤ 100\n",
    "included에는 true가 적어도 하나 존재합니다.\n",
    "입출력 예\n",
    "a\td\tincluded\tresult\n",
    "3\t4\t[true, false, false, true, true]\t37\n",
    "7\t1\t[false, false, false, true, false, false, false]\t10\n",
    "입출력 예 설명\n",
    "입출력 예 #1\n",
    "\n",
    "예제 1번은 a와 d가 각각 3, 4이고 included의 길이가 5입니다. 이를 표로 나타내면 다음과 같습니다.\n",
    "\n",
    "1항\t2항\t3항\t4항\t5항\n",
    "등차수열\t3\t7\t11\t15\t19\n",
    "included\ttrue\tfalse\tfalse\ttrue\ttrue\n",
    "따라서 true에 해당하는 1항, 4항, 5항을 더한 3 + 15 + 19 = 37을 return 합니다.\n",
    "\n",
    "입출력 예 #2\n",
    "\n",
    "예제 2번은 a와 d가 각각 7, 1이고 included의 길이가 7입니다. 이를 표로 나타내면 다음과 같습니다.\n",
    "\n",
    "1항\t2항\t3항\t4항\t5항\t6항\t7항\n",
    "등차수열\t7\t8\t9\t10\t11\t12\t13\n",
    "included\tfalse\tfalse\tfalse\ttrue\tfalse\tfalse\tfalse\n",
    "따라서 4항만 true이므로 10을 return 합니다."
   ]
  },
  {
   "cell_type": "code",
   "execution_count": 10,
   "metadata": {
    "vscode": {
     "languageId": "java"
    }
   },
   "outputs": [],
   "source": [
    "import java.util.*;\n",
    "\n",
    "public int solution(int a, int d, boolean[] included) {\n",
    "    int answer = 0;\n",
    "    for(int i = 0; i<included.length; i++){\n",
    "        if(included[i]){\n",
    "            answer += a + d*(i);\n",
    "        }\n",
    "    }\n",
    "    return answer;\n",
    "}"
   ]
  },
  {
   "cell_type": "code",
   "execution_count": 12,
   "metadata": {
    "vscode": {
     "languageId": "java"
    }
   },
   "outputs": [
    {
     "data": {
      "text/plain": [
       "37"
      ]
     },
     "execution_count": 12,
     "metadata": {},
     "output_type": "execute_result"
    }
   ],
   "source": [
    "boolean[] input1 = {true, false, false, true, true};\n",
    "boolean[] input2 = {false, false, false, true, false, false, false};\n",
    "int result1 = 37;\n",
    "int result2 = 10;\n",
    "\n",
    "solution(3,4, input1)\n"
   ]
  },
  {
   "cell_type": "code",
   "execution_count": 13,
   "metadata": {
    "vscode": {
     "languageId": "java"
    }
   },
   "outputs": [
    {
     "data": {
      "text/plain": [
       "10"
      ]
     },
     "execution_count": 13,
     "metadata": {},
     "output_type": "execute_result"
    }
   ],
   "source": [
    "solution(7,1, input2)"
   ]
  }
 ],
 "metadata": {
  "kernelspec": {
   "display_name": "Java",
   "language": "java",
   "name": "java"
  },
  "language_info": {
   "codemirror_mode": "java",
   "file_extension": ".jshell",
   "mimetype": "text/x-java-source",
   "name": "Java",
   "pygments_lexer": "java",
   "version": "17.0.4.1+1"
  }
 },
 "nbformat": 4,
 "nbformat_minor": 2
}
