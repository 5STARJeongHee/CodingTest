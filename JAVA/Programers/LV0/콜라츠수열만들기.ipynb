{
 "cells": [
  {
   "cell_type": "markdown",
   "metadata": {},
   "source": [
    "## 콜라츠 수열 만들기\n",
    "\n",
    "모든 자연수 x에 대해서 현재 값이 x이면 x가 짝수일 때는 2로 나누고, x가 홀수일 때는 3 * x + 1로 바꾸는 계산을 계속해서 반복하면 언젠가는 반드시 x가 1이 되는지 묻는 문제를 콜라츠 문제라고 부릅니다.\n",
    "\n",
    "그리고 위 과정에서 거쳐간 모든 수를 기록한 수열을 콜라츠 수열이라고 부릅니다.\n",
    "\n",
    "계산 결과 1,000 보다 작거나 같은 수에 대해서는 전부 언젠가 1에 도달한다는 것이 알려져 있습니다.\n",
    "\n",
    "임의의 1,000 보다 작거나 같은 양의 정수 n이 주어질 때 초기값이 n인 콜라츠 수열을 return 하는 solution 함수를 완성해 주세요.\n",
    "\n",
    "```html\n",
    "제한사항\n",
    "1 ≤ n ≤ 1,000\n",
    "입출력 예\n",
    "n\tresult\n",
    "10\t[10, 5, 16, 8, 4, 2, 1]\n",
    "입출력 예 설명\n",
    "입출력 예 #1\n",
    "\n",
    "순서대로 연산한 결과를 표로 만들면 다음과 같습니다.\n",
    "연산 횟수\tx\t홀짝 여부\n",
    "0\t10\t짝수\n",
    "1\t5\t홀수\n",
    "2\t16\t짝수\n",
    "3\t8\t짝수\n",
    "4\t4\t짝수\n",
    "5\t2\t짝수\n",
    "6\t1\t홀수\n",
    "따라서 [10, 5, 16, 8, 4, 2, 1]을 return 합니다.\n",
    "```"
   ]
  },
  {
   "cell_type": "code",
   "execution_count": 1,
   "metadata": {
    "vscode": {
     "languageId": "java"
    }
   },
   "outputs": [],
   "source": [
    "import java.util.ArrayList;\n",
    "\n",
    "public int[] solution(int n) {\n",
    "        List<Integer> list = new ArrayList<>();\n",
    "        list.add(n);\n",
    "        while(n != 1){\n",
    "            if(n % 2 == 0){\n",
    "                n = n / 2;\n",
    "                list.add(n);\n",
    "            }else{\n",
    "                n = 3 * n + 1;\n",
    "                list.add(n);\n",
    "            }\n",
    "        }\n",
    "        return list.stream().mapToInt(Integer::intValue).toArray();\n",
    "    }"
   ]
  },
  {
   "cell_type": "code",
   "execution_count": 3,
   "metadata": {
    "vscode": {
     "languageId": "java"
    }
   },
   "outputs": [
    {
     "name": "stdout",
     "output_type": "stream",
     "text": [
      "[5, 16, 8, 4, 2, 1]\n"
     ]
    }
   ],
   "source": [
    "int[] result = solution(10);\n",
    "System.out.println(Arrays.toString(result));"
   ]
  },
  {
   "cell_type": "markdown",
   "metadata": {},
   "source": [
    "### 다른 사람 풀이\n"
   ]
  },
  {
   "cell_type": "code",
   "execution_count": null,
   "metadata": {
    "vscode": {
     "languageId": "java"
    }
   },
   "outputs": [],
   "source": [
    "import java.util.*;\n",
    "import java.util.stream.Stream;\n",
    "\n",
    "class Solution1 {\n",
    "    public int[] solution(int n) {\n",
    "        return Stream.iterate(n, i -> i >= 1, i -> i == 1 ? 0 : i % 2 == 0 ? i / 2 : 3 * i + 1).mapToInt(Integer::intValue).toArray();\n",
    "    }\n",
    "}\n",
    "\n",
    "import java.util.stream.IntStream;\n",
    "\n",
    "class Solution2 {\n",
    "    public int[] solution(int n) {\n",
    "        return IntStream.concat(\n",
    "                        IntStream.iterate(n, i -> i > 1, i -> i % 2 == 0 ? i / 2 : i * 3 + 1),\n",
    "                        IntStream.of(1))\n",
    "                .toArray();\n",
    "    }\n",
    "}\n"
   ]
  }
 ],
 "metadata": {
  "kernelspec": {
   "display_name": "Java",
   "language": "java",
   "name": "java"
  },
  "language_info": {
   "codemirror_mode": "java",
   "file_extension": ".jshell",
   "mimetype": "text/x-java-source",
   "name": "Java",
   "pygments_lexer": "java",
   "version": "17.0.4.1+1"
  }
 },
 "nbformat": 4,
 "nbformat_minor": 2
}
