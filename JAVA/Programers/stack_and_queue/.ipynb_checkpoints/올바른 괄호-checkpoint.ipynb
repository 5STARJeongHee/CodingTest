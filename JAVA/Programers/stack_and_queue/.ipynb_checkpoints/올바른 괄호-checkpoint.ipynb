{
 "cells": [
  {
   "cell_type": "markdown",
   "id": "6d020881",
   "metadata": {},
   "source": [
    "stack queue 를 사용해도 효율성 문제로 시간이 걸려\n",
    "\n",
    "풀이 1 대신\n",
    "기준 값을 넘는지 아닌지를 체크하는 방식으로 힌트를 보고 풀었다.\n"
   ]
  },
  {
   "cell_type": "code",
   "execution_count": 30,
   "id": "5eedc449",
   "metadata": {},
   "outputs": [],
   "source": [
    "String br1 = \"()()\";\n",
    "String br2 = \"(())()\";\n",
    "String br3 = \")()(\";\n",
    "String br4 = \"(()(\";\n",
    "String br5 = \"(()()))\";\n"
   ]
  },
  {
   "cell_type": "code",
   "execution_count": null,
   "id": "840c6c3e",
   "metadata": {},
   "outputs": [],
   "source": []
  },
  {
   "cell_type": "code",
   "execution_count": 84,
   "id": "c12967d7",
   "metadata": {},
   "outputs": [],
   "source": [
    "// 풀이 1\n",
    "import java.util.*;\n",
    "\n",
    "class Solution {\n",
    "    boolean solution(String s){\n",
    "        boolean answer = true;\n",
    "        char left_br = '(';\n",
    "        char right_br = ')';\n",
    "        int start = 0;\n",
    "        char[] s_array = s.toCharArray();\n",
    "        Stack<Character> stack = new Stack<>();\n",
    "    \n",
    "        stack.push(s_array[start]);\n",
    "\n",
    "        while(!stack.isEmpty()){\n",
    "            if(start + 1== s_array.length){\n",
    "                    break;\n",
    "            }\n",
    "            char before = stack.pop();\n",
    "            char after = s_array[++start];\n",
    "            \n",
    "            if(before == right_br) return false;\n",
    "            \n",
    "            if(before == left_br){ \n",
    "                if(after != right_br){// 짝이 안 맞는 경우\n",
    "                    stack.push(before);\n",
    "                    stack.push(after);\n",
    "                } else if(stack.isEmpty()){ // 왼 bracket 으로 짝이 맞는 경우\n",
    "                    if(start + 1 < s_array.length){\n",
    "                        stack.push(s_array[++start]);\n",
    "                    }\n",
    "                }\n",
    "            }\n",
    "        }\n",
    "        \n",
    "        if(!stack.isEmpty()){\n",
    "            answer = false;\n",
    "        }\n",
    "        return answer;\n",
    "    }\n",
    "}"
   ]
  },
  {
   "cell_type": "code",
   "execution_count": 85,
   "id": "25d3916b",
   "metadata": {},
   "outputs": [
    {
     "name": "stdout",
     "output_type": "stream",
     "text": [
      "false\r\n"
     ]
    }
   ],
   "source": [
    "Solution sol = new Solution();\n",
    "System.out.println(sol.solution(br5));"
   ]
  },
  {
   "cell_type": "code",
   "execution_count": 86,
   "id": "7fbe0d36",
   "metadata": {},
   "outputs": [
    {
     "name": "stdout",
     "output_type": "stream",
     "text": [
      "true\n",
      "true\n",
      "false\n",
      "false\n",
      "false\n"
     ]
    }
   ],
   "source": [
    "Solution sol = new Solution();\n",
    "\n",
    "System.out.println(sol.solution(br1));\n",
    "System.out.println(sol.solution(br2));\n",
    "System.out.println(sol.solution(br3));\n",
    "System.out.println(sol.solution(br4));\n",
    "System.out.println(sol.solution(br5));"
   ]
  },
  {
   "cell_type": "markdown",
   "id": "30629669",
   "metadata": {},
   "source": []
  },
  {
   "cell_type": "code",
   "execution_count": null,
   "id": "566effc3",
   "metadata": {},
   "outputs": [],
   "source": [
    "// 풀이 2\n",
    "\n",
    "import java.util.*;\n",
    "\n",
    "class Solution {\n",
    "    boolean solution(String s){\n",
    "        boolean answer = true;\n",
    "        int start = 0;\n",
    "        \n",
    "        int base = 0;\n",
    "        \n",
    "        if(s.startsWith(\")\")) return false;\n",
    "        if(s.length()%2 == 1) return false;\n",
    "        \n",
    "        for(int i = 0; i< s.length(); i++){\n",
    "            if(s.charAt(i) == '(') base++;\n",
    "            else base--;\n",
    "            \n",
    "            if(base <0){\n",
    "                return false;\n",
    "            }\n",
    "        }\n",
    "        if(base !=0) return false;\n",
    "        return answer;\n",
    "    }\n",
    "}"
   ]
  }
 ],
 "metadata": {
  "kernelspec": {
   "display_name": "Java",
   "language": "java",
   "name": "java"
  },
  "language_info": {
   "codemirror_mode": "java",
   "file_extension": ".jshell",
   "mimetype": "text/x-java-source",
   "name": "Java",
   "pygments_lexer": "java",
   "version": "17.0.4.1+1"
  }
 },
 "nbformat": 4,
 "nbformat_minor": 5
}
