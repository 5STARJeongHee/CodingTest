{
 "cells": [
  {
   "cell_type": "markdown",
   "id": "7dba4e28",
   "metadata": {},
   "source": [
    "큐를 이용하여 풀 수 있을 것으로 보이며\n",
    "제공하는 방안 대로 작성하면 될 것 같다.\n",
    "\n",
    "순서 0 1 2 3\n",
    "우선 2 1 3 2\n",
    "\n",
    "1. {0,2} -> 우선 순위가 3으로 더 큰게 있음\n",
    "순서 1 2 3 0\n",
    "우선 1 3 2 2\n",
    "\n",
    "2. {1,1} -> \"\"\n",
    "순서 2 3 0 1\n",
    "우선 3 2 2 1\n",
    "\n",
    "순서대로 꺼내서 우선 순위를 비교한 뒤 \n"
   ]
  },
  {
   "cell_type": "code",
   "execution_count": 4,
   "id": "64a3cfd6",
   "metadata": {},
   "outputs": [],
   "source": [
    "import java.util.*;\n",
    "class Solution {\n",
    "    public int solution(int[] priorities, int location) {\n",
    "        int answer = 0;\n",
    "        int[] loc = \n",
    "        Queue<Integer> q = new Queue<>();\n",
    "        \n",
    "        for(int i = priorities.length -1 ; i>=0; i--){\n",
    "            q.add(q);\n",
    "            q.\n",
    "        }\n",
    "        for(int i = 0; i<priorities.lenth; i++){\n",
    "            \n",
    "        }\n",
    "        return answer;\n",
    "    }\n",
    "}"
   ]
  },
  {
   "cell_type": "code",
   "execution_count": 2,
   "id": "523b9ce1",
   "metadata": {},
   "outputs": [],
   "source": [
    "int[] p = {2, 1, 3, 2};\n",
    "int l = 2;"
   ]
  },
  {
   "cell_type": "code",
   "execution_count": 3,
   "id": "4a8af9b5",
   "metadata": {},
   "outputs": [
    {
     "ename": "CompilationException",
     "evalue": "",
     "output_type": "error",
     "traceback": [
      "\u001b[1m\u001b[30m|   \u001b[1m\u001b[30m\u001b[0m\u001b[1m\u001b[30m\u001b[41mSolution\u001b[0m\u001b[1m\u001b[30m sol = new Solution();\u001b[0m",
      "\u001b[1m\u001b[31mcannot find symbol\u001b[0m",
      "\u001b[1m\u001b[31m  symbol:   class Solution\u001b[0m",
      "",
      "\u001b[1m\u001b[30m|   \u001b[1m\u001b[30mSolution sol = new \u001b[0m\u001b[1m\u001b[30m\u001b[41mSolution\u001b[0m\u001b[1m\u001b[30m();\u001b[0m",
      "\u001b[1m\u001b[31mcannot find symbol\u001b[0m",
      "\u001b[1m\u001b[31m  symbol:   class Solution\u001b[0m",
      ""
     ]
    }
   ],
   "source": [
    "Solution sol = new Solution();\n",
    "sol.solution(p,l);"
   ]
  },
  {
   "cell_type": "code",
   "execution_count": null,
   "id": "217a5add",
   "metadata": {},
   "outputs": [],
   "source": []
  }
 ],
 "metadata": {
  "kernelspec": {
   "display_name": "Java",
   "language": "java",
   "name": "java"
  },
  "language_info": {
   "codemirror_mode": "java",
   "file_extension": ".jshell",
   "mimetype": "text/x-java-source",
   "name": "Java",
   "pygments_lexer": "java",
   "version": "17.0.4.1+1"
  }
 },
 "nbformat": 4,
 "nbformat_minor": 5
}
