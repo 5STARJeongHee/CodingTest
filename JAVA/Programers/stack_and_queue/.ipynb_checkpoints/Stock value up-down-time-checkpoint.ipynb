{
 "cells": [
  {
   "cell_type": "code",
   "execution_count": 41,
   "id": "ef77f28b",
   "metadata": {},
   "outputs": [],
   "source": [
    "import java.util.*;\n",
    "import java.util.stream.Collectors;\n",
    "\n",
    "class Solution {\n",
    "    public int[] solution(int[] prices) {\n",
    "        int[] answer = new int[prices.length];\n",
    "        \n",
    "        for(int i =0; i<prices.length-1; i++){\n",
    "            int before = prices[i];\n",
    "            for(int j = i+1; j<prices.length; j++){\n",
    "                int after = prices[j];\n",
    "                answer[i]++;\n",
    "                if(before > after){\n",
    "                    answer[i]--;\n",
    "                    if(j-i == 1)\n",
    "                        answer[i]++;\n",
    "                    continue;\n",
    "                }\n",
    "                    \n",
    "            }\n",
    "        }\n",
    "        \n",
    "        return answer;\n",
    "    }\n",
    "}"
   ]
  },
  {
   "cell_type": "code",
   "execution_count": 42,
   "id": "1e4dcb27",
   "metadata": {},
   "outputs": [
    {
     "name": "stdout",
     "output_type": "stream",
     "text": [
      "5, 3, 2, 1, 1, 0, "
     ]
    }
   ],
   "source": [
    "int[] a = {1,2,3,2,3,1};\n",
    "\n",
    "Solution sol = new Solution();\n",
    "int[] result = sol.solution(a);\n",
    "\n",
    "for(int i: result){\n",
    "    System.out.print(i);\n",
    "    System.out.print(\", \");\n",
    "}"
   ]
  },
  {
   "cell_type": "code",
   "execution_count": null,
   "id": "3efcbfcf",
   "metadata": {},
   "outputs": [],
   "source": []
  },
  {
   "cell_type": "code",
   "execution_count": null,
   "id": "0fc40a56",
   "metadata": {},
   "outputs": [],
   "source": []
  }
 ],
 "metadata": {
  "kernelspec": {
   "display_name": "Java",
   "language": "java",
   "name": "java"
  },
  "language_info": {
   "codemirror_mode": "java",
   "file_extension": ".jshell",
   "mimetype": "text/x-java-source",
   "name": "Java",
   "pygments_lexer": "java",
   "version": "17.0.4.1+1"
  }
 },
 "nbformat": 4,
 "nbformat_minor": 5
}
