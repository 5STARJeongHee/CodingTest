{
 "cells": [
  {
   "cell_type": "markdown",
   "id": "09a2f43d",
   "metadata": {},
   "source": [
    "앞의 기능이 100을 넘기 전에는 완료가 되지 않으므로\n",
    "앞의 기능을 기준으로 100을 넘은 day를 사용하여 완료가 될 수 있는\n",
    "가능한 기능들을 차례대로 꺼낸다."
   ]
  },
  {
   "cell_type": "code",
   "execution_count": null,
   "id": "452974df",
   "metadata": {},
   "outputs": [],
   "source": [
    "\n",
    "import java.util.*;\n",
    "class Solution {\n",
    "    public int[] solution(int[] progresses, int[] speeds) {\n",
    "        int[] answer = {};\n",
    "        ArrayList<Integer> arr = new ArrayList<>();\n",
    "        Queue<Integer> p = new LinkedList<>();\n",
    "        Queue<Integer> s = new LinkedList<>();\n",
    "        int temp =0;\n",
    "        int count = 0;\n",
    "        for(int i = 0; i<progresses.length;i++) {\n",
    "        \tp.add(progresses[i]);\n",
    "        \ts.add(speeds[i]);\n",
    "        }\n",
    "        int day = 0;\n",
    "        while(p.size() !=0) {        \t\n",
    "        \tint front = p.peek();\n",
    "            if(front + day*s.peek() >= 100){\n",
    "                count++;\n",
    "                p.poll();\n",
    "                s.poll();\n",
    "            }else{\n",
    "                day++;\n",
    "                if(count != 0){\n",
    "                    arr.add(count);\n",
    "                    count = 0;\n",
    "                }\n",
    "            }\n",
    "            \n",
    "        }\n",
    "        arr.add(count);\n",
    "        answer = new int[arr.size()];\n",
    "        for(int i =0; i<answer.length;i++) {\n",
    "            answer[i] = arr.get(i);\n",
    "        }\n",
    "        return answer;\n",
    "    }\n",
    "}"
   ]
  }
 ],
 "metadata": {
  "kernelspec": {
   "display_name": "base",
   "language": "python",
   "name": "python3"
  },
  "language_info": {
   "codemirror_mode": "java",
   "file_extension": ".jshell",
   "mimetype": "text/x-java-source",
   "name": "python",
   "pygments_lexer": "java",
   "version": "3.9.12"
  },
  "vscode": {
   "interpreter": {
    "hash": "27682476a494b2d0cb0210eb09f7dae4f44f6935d4739ee0a808fc5af13a7f8f"
   }
  }
 },
 "nbformat": 4,
 "nbformat_minor": 5
}
