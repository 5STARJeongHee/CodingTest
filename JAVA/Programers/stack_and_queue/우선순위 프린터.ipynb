{
 "cells": [
  {
   "cell_type": "markdown",
   "id": "7dba4e28",
   "metadata": {},
   "source": [
    "// (미완)\n",
    "\n",
    "큐를 이용하여 풀 수 있을 것으로 보이며\n",
    "제공하는 방안 대로 작성하면 될 것 같다.\n",
    "\n",
    "순서 0 1 2 3\n",
    "우선 2 1 3 2\n",
    "\n",
    "1. {0,2} -> 우선 순위가 3으로 더 큰게 있음\n",
    "순서 1 2 3 0\n",
    "우선 1 3 2 2\n",
    "\n",
    "2. {1,1} -> \"\"\n",
    "순서 2 3 0 1\n",
    "우선 3 2 2 1\n",
    "\n",
    "\n",
    "0 1 2 3 4 5\n",
    "1 1 9 1 2 3\n",
    "\n",
    "->\n",
    "123450\n",
    "191231\n",
    "->\n",
    "234501\n",
    "912311\n",
    "\n",
    "->\n",
    "245013\n",
    "923111\n",
    "->\n",
    "250134\n",
    "931112\n",
    "->\n",
    "251340\n",
    "931121\n",
    "->\n",
    "253401\n",
    "931211\n",
    "->\n",
    "254013\n",
    "932111\n",
    "\n",
    "우선 순위 큐 하나로 해결해보려 했지만 \n",
    "우선 순위가 같은 대상에 대한 순서를 해결할 수 없어서\n",
    "일반 큐를 하나 더 두었다."
   ]
  },
  {
   "cell_type": "code",
   "execution_count": 70,
   "id": "64a3cfd6",
   "metadata": {},
   "outputs": [],
   "source": [
    "import java.util.*;\n",
    "class Solution {\n",
    "    public int solution(int[] priorities, int location) {\n",
    "        int answer = 0;\n",
    "        Queue<Pool> prior_q = new PriorityQueue<>();\n",
    "        Queue<Pool> wait_q = new LinkedList<>();\n",
    "        List<Integer> result = new ArrayList<>();\n",
    "        \n",
    "        for(int i = 0; i<priorities.length; i++){\n",
    "            Pool p = new Pool(i, priorities[i]);\n",
    "            prior_q.offer(p);\n",
    "            wait_q.offer(p);\n",
    "        }\n",
    "        while(!wait_q.isEmpty()){\n",
    "            Pool prior_p = prior_q.poll();\n",
    "            Pool wait_p = wait_q.poll();\n",
    "            if(prior_p.getPriority() == wait_p.getPriority()){\n",
    "                result.add(wait_p.getLoc());\n",
    "            }else if(prior_p.getPriority() > wait_p.getPriority()){\n",
    "                wait_q.offer(wait_p);\n",
    "                prior_q.offer(prior_p);\n",
    "            }\n",
    "        }\n",
    "        for(int i=0;i<result.size();i++){\n",
    "            if(location == result.get(i))\n",
    "                answer = i+1;\n",
    "        }\n",
    "        return answer;\n",
    "    }\n",
    "    \n",
    "    class Pool implements Comparable<Pool>{\n",
    "        private int loc;\n",
    "        private int priority;\n",
    "        \n",
    "        public Pool(int loc, int priority){\n",
    "            this.loc = loc;\n",
    "            this.priority = priority;\n",
    "        }\n",
    "        public int getLoc(){\n",
    "            return loc;\n",
    "        }\n",
    "        public int getPriority(){\n",
    "            return priority;\n",
    "        }\n",
    "        @Override\n",
    "        public int compareTo(Pool s){\n",
    "            return s.priority - priority;\n",
    "        }\n",
    "    }\n",
    "}"
   ]
  },
  {
   "cell_type": "code",
   "execution_count": 71,
   "id": "523b9ce1",
   "metadata": {},
   "outputs": [],
   "source": [
    "int[] p = {2, 1, 3, 2};\n",
    "int l = 2;"
   ]
  },
  {
   "cell_type": "code",
   "execution_count": 72,
   "id": "4a8af9b5",
   "metadata": {},
   "outputs": [
    {
     "name": "stdout",
     "output_type": "stream",
     "text": [
      "2\n",
      "3\n",
      "0\n",
      "1\n"
     ]
    },
    {
     "data": {
      "text/plain": [
       "0"
      ]
     },
     "execution_count": 72,
     "metadata": {},
     "output_type": "execute_result"
    }
   ],
   "source": [
    "Solution sol = new Solution();\n",
    "sol.solution(p,l);\n",
    "//2301"
   ]
  },
  {
   "cell_type": "code",
   "execution_count": 73,
   "id": "217a5add",
   "metadata": {},
   "outputs": [
    {
     "name": "stdout",
     "output_type": "stream",
     "text": [
      "2\n",
      "5\n",
      "4\n",
      "3\n",
      "0\n",
      "1\n"
     ]
    },
    {
     "data": {
      "text/plain": [
       "0"
      ]
     },
     "execution_count": 73,
     "metadata": {},
     "output_type": "execute_result"
    }
   ],
   "source": [
    "int[] p = {1, 1, 9, 1, 1, 1};\n",
    "int l = 0;\n",
    "// 234501\n",
    "Solution sol = new Solution();\n",
    "sol.solution(p,l);"
   ]
  },
  {
   "cell_type": "code",
   "execution_count": null,
   "id": "e2e7e2e1",
   "metadata": {},
   "outputs": [],
   "source": []
  },
  {
   "cell_type": "code",
   "execution_count": null,
   "id": "9ea08b03",
   "metadata": {},
   "outputs": [],
   "source": []
  }
 ],
 "metadata": {
  "kernelspec": {
   "display_name": "Python 3 (ipykernel)",
   "language": "python",
   "name": "python3"
  },
  "language_info": {
   "codemirror_mode": {
    "name": "ipython",
    "version": 3
   },
   "file_extension": ".py",
   "mimetype": "text/x-python",
   "name": "python",
   "nbconvert_exporter": "python",
   "pygments_lexer": "ipython3",
   "version": "3.9.12"
  },
  "vscode": {
   "interpreter": {
    "hash": "27682476a494b2d0cb0210eb09f7dae4f44f6935d4739ee0a808fc5af13a7f8f"
   }
  }
 },
 "nbformat": 4,
 "nbformat_minor": 5
}
