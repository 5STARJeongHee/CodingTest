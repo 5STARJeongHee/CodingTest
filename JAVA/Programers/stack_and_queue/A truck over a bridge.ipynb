{
 "cells": [
  {
   "cell_type": "code",
   "execution_count": 1,
   "id": "e24650ce",
   "metadata": {},
   "outputs": [],
   "source": [
    "import java.util.*;"
   ]
  },
  {
   "cell_type": "code",
   "execution_count": 2,
   "id": "5fe9ae5d",
   "metadata": {},
   "outputs": [],
   "source": [
    "import java.util.*;\n",
    "import java.util.stream.Collectors;;\n",
    "public class Solution {\n",
    "    public int solution(int bridge_length, int weight, int[] truck_weights) {\n",
    "        int answer = 0;\n",
    "        int next = 0;\n",
    "        int current_weight = 0;\n",
    "        List<Integer> in = new ArrayList<>();\n",
    "        List<Integer> times = new ArrayList<>();\n",
    "        \n",
    "        in.add(truck_weights[0]);\n",
    "        times.add(bridge_length);\n",
    "        current_weight += truck_weights[0];\n",
    "        answer++;\n",
    "        next++;\n",
    "        \n",
    "        while(!in.isEmpty()){\n",
    "\n",
    "            times = times.stream().map(i->i-1).collect(Collectors.toList());\n",
    "            \n",
    "            answer++;\n",
    "            \n",
    "            if(times.get(0) == 0){\n",
    "                times.remove(0);\n",
    "                current_weight -= in.remove(0);\n",
    "            }\n",
    "            \n",
    "            \n",
    "            if(next < truck_weights.length){\n",
    "                int temp = truck_weights[next];\n",
    "                if(current_weight + temp <= weight && in.size() <= bridge_length){\n",
    "                    in.add(temp);\n",
    "                    times.add(times.size(),bridge_length);\n",
    "                    current_weight += temp;\n",
    "                    next++;\n",
    "                }\n",
    "            }\n",
    "            \n",
    "            \n",
    "        }\n",
    "        \n",
    "                    \n",
    "        \n",
    "        return answer;\n",
    "    }\n",
    "}"
   ]
  },
  {
   "cell_type": "code",
   "execution_count": 5,
   "id": "a8f47483",
   "metadata": {},
   "outputs": [],
   "source": [
    "// int bridge_length = 2;\n",
    "// int weight = 10;\n",
    "// int[] truck_weights = {7,4,5,6};\n",
    "\n",
    "int bridge_length2 = 5;\n",
    "int weight2 = 5;\n",
    "int[] truck_weights2 = {2, 2, 2, 2, 1, 1, 1, 1, 1};"
   ]
  },
  {
   "cell_type": "code",
   "execution_count": 6,
   "id": "edd285b2",
   "metadata": {},
   "outputs": [
    {
     "data": {
      "text/plain": [
       "19"
      ]
     },
     "execution_count": 6,
     "metadata": {},
     "output_type": "execute_result"
    }
   ],
   "source": [
    "Solution sol = new Solution();\n",
    "// sol.solution(bridge_length, weight, truck_weights);\n",
    "sol.solution(bridge_length2, weight2, truck_weights2);\n"
   ]
  },
  {
   "cell_type": "markdown",
   "id": "1fd936b2",
   "metadata": {},
   "source": [
    "최대 무게, 최대 개수\n",
    "10, 2\n",
    "\n",
    "정해진 순으로 건널 때 몇초가 걸리는지 계산\n",
    "-> 최소로 걸리는 시간 계산이 아님\n",
    "\n",
    "\n",
    "지나가는 시간 계산은\n",
    "다리에 올라 갈 수 있는 트럭의 최대 개수 만큼의 시간이 지나야만 트럭이 다리를 지나 갈 수 있음\n",
    "\n",
    "\n"
   ]
  },
  {
   "cell_type": "code",
   "execution_count": null,
   "id": "8b208b80",
   "metadata": {},
   "outputs": [],
   "source": [
    "// 다른 사람 풀이 중 가장 깔끔했던 부분\n",
    "// 각각의 트럭의 이동거리 혹은 움직인 시간을 계산하는 부분을 별도의 배열이 아닌\n",
    "// 클래스로 두어 계산을 용이하면서도 거리 또는 시간 계산을 위해 반복을 덜 돌릴 수 있음\n",
    "\n",
    "import java.util.*;\n",
    "\n",
    "class Solution {\n",
    "    class Truck {\n",
    "        int weight;\n",
    "        int move;\n",
    "\n",
    "        public Truck(int weight) {\n",
    "            this.weight = weight;\n",
    "            this.move = 1;\n",
    "        }\n",
    "\n",
    "        public void moving() {\n",
    "            move++;\n",
    "        }\n",
    "    }\n",
    "\n",
    "    public int solution(int bridgeLength, int weight, int[] truckWeights) {\n",
    "        Queue<Truck> waitQ = new LinkedList<>();\n",
    "        Queue<Truck> moveQ = new LinkedList<>();\n",
    "\n",
    "        for (int t : truckWeights) {\n",
    "            waitQ.offer(new Truck(t));\n",
    "        }\n",
    "\n",
    "        int answer = 0;\n",
    "        int curWeight = 0;\n",
    "\n",
    "        while (!waitQ.isEmpty() || !moveQ.isEmpty()) {\n",
    "            answer++;\n",
    "\n",
    "            if (moveQ.isEmpty()) {\n",
    "                Truck t = waitQ.poll();\n",
    "                curWeight += t.weight;\n",
    "                moveQ.offer(t);\n",
    "                continue;\n",
    "            }\n",
    "\n",
    "            for (Truck t : moveQ) {\n",
    "                t.moving();\n",
    "            }\n",
    "\n",
    "            if (moveQ.peek().move > bridgeLength) {\n",
    "                Truck t = moveQ.poll();\n",
    "                curWeight -= t.weight;\n",
    "            }\n",
    "\n",
    "            if (!waitQ.isEmpty() && curWeight + waitQ.peek().weight <= weight) {\n",
    "                Truck t = waitQ.poll();\n",
    "                curWeight += t.weight;\n",
    "                moveQ.offer(t);\n",
    "            }\n",
    "        }\n",
    "\n",
    "        return answer;\n",
    "    }\n",
    "}"
   ]
  }
 ],
 "metadata": {
  "kernelspec": {
   "display_name": "Java",
   "language": "java",
   "name": "java"
  },
  "language_info": {
   "codemirror_mode": "java",
   "file_extension": ".jshell",
   "mimetype": "text/x-java-source",
   "name": "Java",
   "pygments_lexer": "java",
   "version": "17.0.4.1+1"
  }
 },
 "nbformat": 4,
 "nbformat_minor": 5
}
