{
 "cells": [
  {
   "cell_type": "code",
   "execution_count": 24,
   "id": "ef77f28b",
   "metadata": {},
   "outputs": [],
   "source": [
    "// 풀이1 실패\n",
    "import java.util.*;\n",
    "import java.util.stream.Collectors;\n",
    "\n",
    "class Solution {\n",
    "    public int[] solution(int[] prices) {\n",
    "        int[] answer = new int[prices.length];\n",
    "        Queue<Stock> q = new LinkedList<>();\n",
    "        \n",
    "        q.offer(new Stock(0,prices[0],0));\n",
    "        \n",
    "        for(int i =1; i<prices.length; i++){\n",
    "            int temp = q.size();\n",
    "            for(int j = 0; j<temp; j++){\n",
    "                Stock s = q.poll();\n",
    "                if(s.price <= prices[i]){\n",
    "                    s.time++;\n",
    "                    q.offer(s);\n",
    "                }else{\n",
    "                    if(i-s.loc == 1){\n",
    "                        s.time++;\n",
    "                    }\n",
    "                    answer[s.loc] = s.time;\n",
    "                }\n",
    "            }\n",
    "            q.offer(new Stock(i,prices[i],0));\n",
    "        }\n",
    "        \n",
    "        for(Stock s: q){\n",
    "            answer[s.loc] = s.time;\n",
    "            System.out.println(\"left: \"+s.price+\",\"+s.time);\n",
    "        }\n",
    "        return answer;\n",
    "    }\n",
    "    \n",
    "    class Stock{\n",
    "        int loc;\n",
    "        int price;\n",
    "        int time;\n",
    "        \n",
    "        public Stock(int loc, int price, int time){\n",
    "            this.loc = loc;\n",
    "            this.price = price;\n",
    "            this.time = time;\n",
    "        }\n",
    "        \n",
    "    }\n",
    "}"
   ]
  },
  {
   "cell_type": "code",
   "execution_count": 32,
   "id": "1e4dcb27",
   "metadata": {},
   "outputs": [
    {
     "name": "stdout",
     "output_type": "stream",
     "text": [
      "4, 3, 1, 1, 0, "
     ]
    }
   ],
   "source": [
    "int[] a = {1,2,3,2,3};\n",
    "\n",
    "Solution sol = new Solution();\n",
    "int[] result = sol.solution(a);\n",
    "\n",
    "for(int i: result){\n",
    "    System.out.print(i);\n",
    "    System.out.print(\", \");\n",
    "}"
   ]
  },
  {
   "cell_type": "code",
   "execution_count": 30,
   "id": "3efcbfcf",
   "metadata": {},
   "outputs": [],
   "source": [
    "//풀이 2 성공\n",
    "import java.util.*;\n",
    "import java.util.stream.Collectors;\n",
    "\n",
    "class Solution {\n",
    "    public int[] solution(int[] prices) {\n",
    "        int[] answer = new int[prices.length];\n",
    "        List<Integer> q = new ArrayList<Integer>();\n",
    "        int idx = 0;\n",
    "        q.addAll(Arrays.stream(prices).boxed().collect(Collectors.toList()));\n",
    "        \n",
    "        while(!q.isEmpty()){\n",
    "            int now = q.remove(0);\n",
    "            int time = 0;\n",
    "            \n",
    "            for(int i: q){\n",
    "                time++;\n",
    "                if(now > i){\n",
    "                    break;\n",
    "                }\n",
    "            }\n",
    "            answer[idx++] = time;\n",
    "        }\n",
    "        return answer;\n",
    "    }\n",
    "}"
   ]
  },
  {
   "cell_type": "code",
   "execution_count": null,
   "id": "0fc40a56",
   "metadata": {},
   "outputs": [],
   "source": []
  }
 ],
 "metadata": {
  "kernelspec": {
   "display_name": "Java",
   "language": "java",
   "name": "java"
  },
  "language_info": {
   "codemirror_mode": "java",
   "file_extension": ".jshell",
   "mimetype": "text/x-java-source",
   "name": "Java",
   "pygments_lexer": "java",
   "version": "17.0.4.1+1"
  }
 },
 "nbformat": 4,
 "nbformat_minor": 5
}
