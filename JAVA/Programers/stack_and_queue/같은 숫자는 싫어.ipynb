{
 "cells": [
  {
   "cell_type": "code",
   "execution_count": 1,
   "id": "e707b5d8",
   "metadata": {},
   "outputs": [],
   "source": [
    "import java.util.*;\n",
    "\n",
    "public class Solution {\n",
    "    public int[] solution(int []arr) {\n",
    "        int[] answer = {};\n",
    "        Stack<Integer> a = new Stack<>();\n",
    "        a.push(arr[0]);\n",
    "        \n",
    "        for(int i = 1; i<arr.length; i++){\n",
    "            int temp = a.pop();\n",
    "            if(temp == arr[i]) a.push(temp);\n",
    "            else{\n",
    "                a.push(temp);\n",
    "                a.push(arr[i]);\n",
    "            }\n",
    "        }\n",
    "        answer = new int[a.size()];\n",
    "        \n",
    "        for(int i = answer.length-1; i>=0; i--){\n",
    "            answer[i] = a.pop();\n",
    "        }\n",
    "        return answer;\n",
    "    }\n",
    "}"
   ]
  },
  {
   "cell_type": "code",
   "execution_count": 3,
   "id": "319a781d",
   "metadata": {},
   "outputs": [
    {
     "name": "stdout",
     "output_type": "stream",
     "text": [
      "1 3 0 1 "
     ]
    }
   ],
   "source": [
    "int[] arr= {1,1,3,3,0,1,1};\n",
    "Solution sol =new Solution();\n",
    "int[] ans = sol.solution(arr);\n",
    "\n",
    "for(int i: ans){\n",
    "    System.out.print(i+\" \");\n",
    "}"
   ]
  }
 ],
 "metadata": {
  "kernelspec": {
   "display_name": "base",
   "language": "python",
   "name": "python3"
  },
  "language_info": {
   "codemirror_mode": "java",
   "file_extension": ".jshell",
   "mimetype": "text/x-java-source",
   "name": "python",
   "pygments_lexer": "java",
   "version": "3.9.12"
  },
  "vscode": {
   "interpreter": {
    "hash": "27682476a494b2d0cb0210eb09f7dae4f44f6935d4739ee0a808fc5af13a7f8f"
   }
  }
 },
 "nbformat": 4,
 "nbformat_minor": 5
}
