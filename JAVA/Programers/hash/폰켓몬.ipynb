{
 "cells": [
  {
   "cell_type": "code",
   "execution_count": 2,
   "id": "f2f47851",
   "metadata": {},
   "outputs": [],
   "source": [
    "import java.util.*;\n",
    "class Solution {\n",
    "    public int solution(int[] nums) {\n",
    "        int answer = 0;\n",
    "        int n = nums.length/2;\n",
    "        Set<Integer> mon_set = new HashSet<>();\n",
    "        \n",
    "        for(int i : nums){\n",
    "            mon_set.add(i);\n",
    "        }\n",
    "        answer = mon_set.size();\n",
    "        \n",
    "        if(answer < n){\n",
    "            return answer;\n",
    "        }else{\n",
    "            return n;\n",
    "        }\n",
    "        \n",
    "    }\n",
    "}"
   ]
  },
  {
   "cell_type": "code",
   "execution_count": 3,
   "id": "5d6fa830",
   "metadata": {},
   "outputs": [
    {
     "data": {
      "text/plain": [
       "2"
      ]
     },
     "execution_count": 3,
     "metadata": {},
     "output_type": "execute_result"
    }
   ],
   "source": [
    "int[] arr = {3,1,2,3};\n",
    "\n",
    "Solution sol = new Solution();\n",
    "sol.solution(arr);"
   ]
  }
 ],
 "metadata": {
  "kernelspec": {
   "display_name": "Java",
   "language": "java",
   "name": "java"
  },
  "language_info": {
   "codemirror_mode": "java",
   "file_extension": ".jshell",
   "mimetype": "text/x-java-source",
   "name": "Java",
   "pygments_lexer": "java",
   "version": "17.0.4.1+1"
  }
 },
 "nbformat": 4,
 "nbformat_minor": 5
}
