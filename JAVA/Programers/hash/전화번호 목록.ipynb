{
 "cells": [
  {
   "cell_type": "markdown",
   "id": "44f304f2",
   "metadata": {},
   "source": [
    "기존에는 문자열대로 정렬한 뒤 \n",
    "앞의 문자열이 접두사로 붙어 있나 확인하는 식으로 풀었었지만\n",
    "\n",
    "TreeSet을 이용하여 데이터 입력시 정렬되게 하여\n",
    "속도를 더 빠르게 했다."
   ]
  },
  {
   "cell_type": "code",
   "execution_count": 1,
   "id": "263170a2",
   "metadata": {},
   "outputs": [],
   "source": [
    "import java.util.*;\n",
    "\n",
    "class Solution {\n",
    "    public boolean solution(String[] phone_book) { \n",
    "        boolean answer = true;\n",
    "        Set<String> tree = new TreeSet<>();\n",
    "        \n",
    "        for(int i = 0; i<phone_book.length; i++){\n",
    "            tree.add(phone_book[i]);\n",
    "        }\n",
    "        Iterator<String> itr = tree.iterator();\n",
    "        String before = \"test\";\n",
    "        while(itr.hasNext()){\n",
    "            String next = itr.next();\n",
    "        \tif(next.startsWith(before)){\n",
    "                return false;  \n",
    "            } \n",
    "            before = next;\n",
    "        }\n",
    "        \n",
    "        return answer;\n",
    "    }\n",
    "}"
   ]
  },
  {
   "cell_type": "code",
   "execution_count": 3,
   "id": "0fc6fde3",
   "metadata": {},
   "outputs": [
    {
     "data": {
      "text/plain": [
       "false"
      ]
     },
     "execution_count": 3,
     "metadata": {},
     "output_type": "execute_result"
    }
   ],
   "source": [
    "String[] phone_book = {\"119\", \"97674223\", \"1195524421\"};\n",
    "Solution sol = new Solution();\n",
    "sol.solution(phone_book);"
   ]
  }
 ],
 "metadata": {
  "kernelspec": {
   "display_name": "Java",
   "language": "java",
   "name": "java"
  },
  "language_info": {
   "codemirror_mode": "java",
   "file_extension": ".jshell",
   "mimetype": "text/x-java-source",
   "name": "Java",
   "pygments_lexer": "java",
   "version": "17.0.4.1+1"
  }
 },
 "nbformat": 4,
 "nbformat_minor": 5
}
