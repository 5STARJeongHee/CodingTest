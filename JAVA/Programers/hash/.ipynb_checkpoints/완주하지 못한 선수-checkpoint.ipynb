{
 "cells": [
  {
   "cell_type": "code",
   "execution_count": 2,
   "id": "23671ea4",
   "metadata": {},
   "outputs": [],
   "source": [
    "import java.util.*;\n",
    "class Solution {\n",
    "     public static String solution(String[] participant, String[] completion) {\n",
    "        String answer = \"\";\n",
    "        HashMap<String,Integer> map = new HashMap<>();\n",
    "        for (String p: participant){\n",
    "            map.put(p, map.getOrDefault(p,0) +1);\n",
    "        }\n",
    "        \n",
    "        for(String p: completion){\n",
    "            map.put(p,map.get(p)-1);\n",
    "            if(map.get(p) == 0){\n",
    "                map.remove(p);\n",
    "            }\n",
    "        }\n",
    "        return map.entrySet().iterator().next().getKey();\n",
    "    }\n",
    "\n",
    "}"
   ]
  },
  {
   "cell_type": "code",
   "execution_count": 3,
   "id": "962f9363",
   "metadata": {},
   "outputs": [
    {
     "data": {
      "text/plain": [
       "leo"
      ]
     },
     "execution_count": 3,
     "metadata": {},
     "output_type": "execute_result"
    }
   ],
   "source": [
    "String[] participant = {\"leo\", \"kiki\", \"eden\"};\n",
    "String[] completion = {\"eden\", \"kiki\"};\n",
    "\n",
    "Solution sol = new Solution();\n",
    "sol.solution(participant, completion);"
   ]
  }
 ],
 "metadata": {
  "kernelspec": {
   "display_name": "Java",
   "language": "java",
   "name": "java"
  },
  "language_info": {
   "codemirror_mode": "java",
   "file_extension": ".jshell",
   "mimetype": "text/x-java-source",
   "name": "Java",
   "pygments_lexer": "java",
   "version": "17.0.4.1+1"
  }
 },
 "nbformat": 4,
 "nbformat_minor": 5
}
