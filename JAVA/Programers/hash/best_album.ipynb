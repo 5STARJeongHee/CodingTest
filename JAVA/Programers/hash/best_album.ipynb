{
 "cells": [
  {
   "cell_type": "code",
   "execution_count": 1,
   "metadata": {},
   "outputs": [],
   "source": [
    "import java.util.*;\n",
    "import java.util.stream.Collectors;\n",
    "class Solution {\n",
    "    public int[] solution(String[] genres, int[] plays) {\n",
    "        Map<String, Integer> genre_cnt = new HashMap<>();\n",
    "        Map<String, TreeSet<Song>> song_selected = new HashMap<>();\n",
    "        TreeSet<Genre> genre_tree;\n",
    "        List<Integer> result = new ArrayList<>();\n",
    "        \n",
    "        for(int i =0; i < genres.length; i++){\n",
    "            genre_cnt.put(genres[i], plays[i] + genre_cnt.getOrDefault(genres[i], 0));\n",
    "            TreeSet<Song> temp = song_selected.getOrDefault(genres[i], new TreeSet<>());\n",
    "            temp.add(new Song(i, plays[i]));\n",
    "            song_selected.put(genres[i], temp);\n",
    "        }\n",
    "        genre_tree = (TreeSet<Genre>) genre_cnt.entrySet().stream().map(e->new Genre(e.getKey(), e.getValue())).collect(Collectors.toCollection(TreeSet::new));\n",
    "\n",
    "\n",
    "        for(Genre genre: genre_tree){\n",
    "            TreeSet<Song> selected = song_selected.get(genre.getName());\n",
    "            Iterator itr = selected.iterator();\n",
    "            int cnt = 0;\n",
    "            while(itr.hasNext()){\n",
    "                cnt++;\n",
    "                result.add(((Song)itr.next()).getSong());\n",
    "                if(cnt == 2) break;\n",
    "            }\n",
    "        }\n",
    "        \n",
    "        return result.stream().mapToInt(i->i).toArray();\n",
    "    }\n",
    "    \n",
    "    class Genre implements Comparable<Genre> {\n",
    "        private String name;\n",
    "        private Integer plays;\n",
    "        \n",
    "        public Genre(String name, Integer plays){\n",
    "            this.name = name;\n",
    "            this.plays = plays;\n",
    "        }\n",
    "        public String getName(){\n",
    "            return name;\n",
    "        }\n",
    "        \n",
    "        @Override\n",
    "        public int compareTo(Genre s){\n",
    "            return -1*Integer.compare(plays, s.plays);\n",
    "        }\n",
    "    }\n",
    "    \n",
    "    class Song implements Comparable<Song> {\n",
    "        private Integer song;\n",
    "        private Integer plays;\n",
    "        \n",
    "        public Song(Integer song, Integer plays){\n",
    "            this.song = song;\n",
    "            this.plays = plays;\n",
    "        }\n",
    "        public Integer getSong(){\n",
    "            return song;\n",
    "        }\n",
    "        @Override\n",
    "        public int compareTo(Song s){\n",
    "            if(s.plays < plays){\n",
    "                return -1;\n",
    "            } else if(s.plays > plays){\n",
    "                return 1;\n",
    "            }\n",
    "            if(s.song < song){\n",
    "                return 1;\n",
    "            } else if(s.song > song){\n",
    "                return -1;\n",
    "            }\n",
    "            return 0;\n",
    "        }\n",
    "    }\n",
    "}\n"
   ]
  },
  {
   "cell_type": "code",
   "execution_count": 3,
   "metadata": {},
   "outputs": [
    {
     "name": "stdout",
     "output_type": "stream",
     "text": [
      "4\n",
      "1\n",
      "3\n",
      "0\n"
     ]
    }
   ],
   "source": [
    "String[] genres = {\"classic\", \"pop\", \"classic\", \"classic\", \"pop\"};\n",
    "int[] counts = {500, 600, 150, 800, 2500};\n",
    "\n",
    "Solution sol = new Solution();\n",
    "int[] answer = sol.solution(genres, counts);\n",
    "\n",
    "for(int i: answer){\n",
    "    System.out.println(i);\n",
    "}\n"
   ]
  }
 ],
 "metadata": {
  "kernelspec": {
   "display_name": "Java",
   "language": "java",
   "name": "java"
  },
  "language_info": {
   "codemirror_mode": "java",
   "file_extension": ".jshell",
   "mimetype": "text/x-java-source",
   "name": "java",
   "pygments_lexer": "java",
   "version": "3.9.17"
  },
  "vscode": {
   "interpreter": {
    "hash": "27682476a494b2d0cb0210eb09f7dae4f44f6935d4739ee0a808fc5af13a7f8f"
   }
  }
 },
 "nbformat": 4,
 "nbformat_minor": 2
}
