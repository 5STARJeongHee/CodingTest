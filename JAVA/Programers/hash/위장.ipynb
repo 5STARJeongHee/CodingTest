{
 "cells": [
  {
   "cell_type": "markdown",
   "id": "e42686a2",
   "metadata": {},
   "source": [
    "옷가지들을 조합할 수 있는 경우의 수를 계산하는 문제로\n",
    "\n",
    "조합의 공식으로 계산시 옷 종류를 선택하지 않는 가지수를 포함하여 계산 한 뒤 \n",
    "\n",
    "아무것도 선택하지 않는 선택지를 하나 빼면 쉽게 계산할 수 있는 문제다."
   ]
  },
  {
   "cell_type": "code",
   "execution_count": null,
   "id": "f00056e6",
   "metadata": {},
   "outputs": [],
   "source": []
  },
  {
   "cell_type": "code",
   "execution_count": null,
   "id": "67aa6a8a",
   "metadata": {},
   "outputs": [],
   "source": []
  },
  {
   "cell_type": "code",
   "execution_count": 2,
   "id": "e557fcd8",
   "metadata": {},
   "outputs": [],
   "source": [
    "import java.util.*;\n",
    "class Solution {\n",
    "    public int solution(String[][] clothes) {\n",
    "        int answer = 1;\n",
    "        HashMap<String,Integer> hm = new HashMap<>();\n",
    "        \n",
    "        int[] count;\n",
    "        for(int i=0;i<clothes.length;i++) {\n",
    "        \tif(!hm.containsKey(clothes[i][1])) {\n",
    "        \t\thm.put(clothes[i][1], 1);\n",
    "        \t}else {\n",
    "        \t\thm.put(clothes[i][1],hm.get(clothes[i][1])+1);\n",
    "        \t}\n",
    "        }\n",
    "        \n",
    "        count = new int[hm.size()];\n",
    "        Iterator<String> it = hm.keySet().iterator();\n",
    "        int j=0;\n",
    "        while(it.hasNext()) {\n",
    "        \tcount[j++] = hm.get(it.next());\n",
    "        }\n",
    "        for(int i =0;i<count.length;i++) answer*=(1+count[i]);\n",
    "        return answer-1;\n",
    "    }\n",
    "}"
   ]
  },
  {
   "cell_type": "code",
   "execution_count": 3,
   "id": "e892a922",
   "metadata": {},
   "outputs": [
    {
     "data": {
      "text/plain": [
       "5"
      ]
     },
     "execution_count": 3,
     "metadata": {},
     "output_type": "execute_result"
    }
   ],
   "source": [
    "String[][] clothes = {{\"yellow_hat\", \"headgear\"}, {\"blue_sunglasses\", \"eyewear\"}, {\"green_turban\", \"headgear\"}};\n",
    "Solution sol = new Solution();\n",
    "sol.solution(clothes);"
   ]
  }
 ],
 "metadata": {
  "kernelspec": {
   "display_name": "Java",
   "language": "java",
   "name": "java"
  },
  "language_info": {
   "codemirror_mode": "java",
   "file_extension": ".jshell",
   "mimetype": "text/x-java-source",
   "name": "Java",
   "pygments_lexer": "java",
   "version": "17.0.4.1+1"
  }
 },
 "nbformat": 4,
 "nbformat_minor": 5
}
