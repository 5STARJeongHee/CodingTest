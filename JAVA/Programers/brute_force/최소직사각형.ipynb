{
 "cells": [
  {
   "cell_type": "code",
   "execution_count": 2,
   "id": "72824c09",
   "metadata": {},
   "outputs": [],
   "source": [
    "import java.util.*;\n",
    "\n",
    "public class Solution {\n",
    "    public int solution(int[][] sizes) {\n",
    "        int answer = 0;\n",
    "        int x = 0;\n",
    "        int y = 0;\n",
    "\n",
    "        for (int i = 0; i < sizes.length; i++) {\n",
    "            int tx = Math.max(sizes[i][0],sizes[i][1]);\n",
    "            int ty = Math.min(sizes[i][0],sizes[i][1]);\n",
    "            x = Math.max(x,tx);\n",
    "            y = Math.max(y, ty);\n",
    "        }\n",
    "        \n",
    "        return x*y;\n",
    "    }\n",
    "}"
   ]
  },
  {
   "cell_type": "code",
   "execution_count": 3,
   "id": "c68f41c1",
   "metadata": {},
   "outputs": [
    {
     "data": {
      "text/plain": [
       "4000"
      ]
     },
     "execution_count": 3,
     "metadata": {},
     "output_type": "execute_result"
    }
   ],
   "source": [
    "// [60, 50], [30, 70], [60, 30], [80, 40]\n",
    "int[][] sizes = {{60, 50},{30, 70},{60, 30}, {80, 40}};\n",
    "Solution sol = new Solution();\n",
    "sol.solution(sizes);"
   ]
  },
  {
   "cell_type": "code",
   "execution_count": null,
   "id": "09bb5e24",
   "metadata": {},
   "outputs": [],
   "source": []
  }
 ],
 "metadata": {
  "kernelspec": {
   "display_name": "Java",
   "language": "java",
   "name": "java"
  },
  "language_info": {
   "codemirror_mode": "java",
   "file_extension": ".jshell",
   "mimetype": "text/x-java-source",
   "name": "Java",
   "pygments_lexer": "java",
   "version": "17.0.4.1+1"
  }
 },
 "nbformat": 4,
 "nbformat_minor": 5
}
