{
 "cells": [
  {
   "cell_type": "code",
   "execution_count": null,
   "id": "d8210ff9",
   "metadata": {},
   "outputs": [],
   "source": [
    "class Solution {\n",
    "    public int solution(String numbers) {\n",
    "        int answer = 0;\n",
    "        return answer;\n",
    "    }\n",
    "}"
   ]
  }
 ],
 "metadata": {
  "kernelspec": {
   "display_name": "Java",
   "language": "java",
   "name": "java"
  },
  "language_info": {
   "codemirror_mode": "java",
   "file_extension": ".jshell",
   "mimetype": "text/x-java-source",
   "name": "Java",
   "pygments_lexer": "java",
   "version": "17.0.4.1+1"
  }
 },
 "nbformat": 4,
 "nbformat_minor": 5
}
