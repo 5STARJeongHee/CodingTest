{
 "cells": [
  {
   "cell_type": "code",
   "execution_count": null,
   "id": "7c4a4376",
   "metadata": {},
   "outputs": [],
   "source": [
    "import java.util.*;\n",
    "\n",
    "public class Solution_jh {\n",
    "    public int[] solution(int[] answers){\n",
    "        int[] answer = {};\n",
    "        int[] cnts = {0,0,0};\n",
    "        int[] p1 = {1,2,3,4,5};\n",
    "        int[] p2 = {2,1,2,3,2,4,2,5};\n",
    "        int[] p3 = {3,3,1,1,2,2,4,4,5,5};\n",
    "\n",
    "        for (int i = 0; i < answers.length; i++) {\n",
    "            if(answers[i] == p1[i%5]) cnts[0]++;\n",
    "            if(answers[i] == p2[i%8]) cnts[1]++;\n",
    "            if(answers[i] == p3[i%10]) cnts[2]++;\n",
    "        }\n",
    "        int max = Math.max(cnts[0],Math.max(cnts[1],cnts[2]));\n",
    "        List<Integer> lst = new ArrayList<>();\n",
    "        for (int i = 0; i < cnts.length; i++) {\n",
    "            if(max == cnts[i]){\n",
    "                lst.add(i+1);\n",
    "            }\n",
    "        }\n",
    "        answers = lst.stream().mapToInt(i->i).toArray();\n",
    "\n",
    "        return answers;\n",
    "\n",
    "    }\n",
    "}\n"
   ]
  },
  {
   "cell_type": "code",
   "execution_count": null,
   "id": "8a5ec790",
   "metadata": {},
   "outputs": [],
   "source": []
  }
 ],
 "metadata": {
  "kernelspec": {
   "display_name": "Java",
   "language": "java",
   "name": "java"
  },
  "language_info": {
   "codemirror_mode": "java",
   "file_extension": ".jshell",
   "mimetype": "text/x-java-source",
   "name": "Java",
   "pygments_lexer": "java",
   "version": "17.0.4.1+1"
  }
 },
 "nbformat": 4,
 "nbformat_minor": 5
}
