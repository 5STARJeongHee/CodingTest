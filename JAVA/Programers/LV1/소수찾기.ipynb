{
 "cells": [
  {
   "cell_type": "markdown",
   "metadata": {},
   "source": [
    "# 소수 찾기\n",
    "\n",
    "### 완전탐색 1단계 문제\n",
    "\n",
    "```text\n",
    "한자리 숫자가 적힌 종이 조각이 흩어져있습니다. 흩어진 종이 조각을 붙여 소수를 몇 개 만들 수 있는지 알아내려 합니다.\n",
    "\n",
    "각 종이 조각에 적힌 숫자가 적힌 문자열 numbers가 주어졌을 때, 종이 조각으로 만들 수 있는 소수가 몇 개인지 return 하도록 solution 함수를 완성해주세요.\n",
    "\n",
    "제한사항\n",
    "numbers는 길이 1 이상 7 이하인 문자열입니다.\n",
    "numbers는 0~9까지 숫자만으로 이루어져 있습니다.\n",
    "\"013\"은 0, 1, 3 숫자가 적힌 종이 조각이 흩어져있다는 의미입니다.\n",
    "입출력 예\n",
    "numbers\treturn\n",
    "\"17\"\t3\n",
    "\"011\"\t2\n",
    "입출력 예 설명\n",
    "예제 #1\n",
    "[1, 7]으로는 소수 [7, 17, 71]를 만들 수 있습니다.\n",
    "\n",
    "예제 #2\n",
    "[0, 1, 1]으로는 소수 [11, 101]를 만들 수 있습니다.\n",
    "\n",
    "11과 011은 같은 숫자로 취급합니다.\n",
    "\n",
    "```"
   ]
  },
  {
   "cell_type": "code",
   "execution_count": 74,
   "metadata": {
    "vscode": {
     "languageId": "java"
    }
   },
   "outputs": [],
   "source": [
    "\n",
    "public int solution(String numbers) {\n",
    "    int answer = 0;\n",
    "    int[] numArr = new String(numbers.toCharArray()).chars().map(c -> c-48).toArray();\n",
    "    HashSet<Integer> set = new HashSet<>();\n",
    "\n",
    "    for (int i = 0; i < numArr.length; i++) {\n",
    "        int[] output = new int[i+1];\n",
    "        boolean[] visited = new boolean[numArr.length];\n",
    "        \n",
    "        permutation(numArr, output, visited, 0, i+1, set);    \n",
    "    }\n",
    "    Iterator<Integer> iter = set.iterator();\n",
    "        while (iter.hasNext()) {\n",
    "            int p = iter.next();\n",
    "            System.out.println(p);\n",
    "            if(minority(p)){\n",
    "                answer++;\n",
    "            }\n",
    "        }\n",
    "    \n",
    "    return answer;\n",
    "}"
   ]
  },
  {
   "cell_type": "code",
   "execution_count": 79,
   "metadata": {
    "vscode": {
     "languageId": "java"
    }
   },
   "outputs": [
    {
     "name": "stdout",
     "output_type": "stream",
     "text": [
      "0\n",
      "1\n",
      "101\n",
      "10\n",
      "11\n",
      "110\n"
     ]
    },
    {
     "data": {
      "text/plain": [
       "3"
      ]
     },
     "execution_count": 79,
     "metadata": {},
     "output_type": "execute_result"
    }
   ],
   "source": [
    "String numbers = \"011\";\n",
    "solution(numbers);\n",
    "    "
   ]
  },
  {
   "cell_type": "code",
   "execution_count": 78,
   "metadata": {
    "vscode": {
     "languageId": "java"
    }
   },
   "outputs": [],
   "source": [
    "public static boolean minority(int num){\n",
    "    if(num <= 1){\n",
    "        return false;\n",
    "    }\n",
    "    for(int i = 3; i < (int)Math.sqrt(num); i++){\n",
    "        if(num % i == 0){\n",
    "            return false;\n",
    "        }\n",
    "    }\n",
    "    return true;\n",
    "}"
   ]
  },
  {
   "cell_type": "code",
   "execution_count": 59,
   "metadata": {
    "vscode": {
     "languageId": "java"
    }
   },
   "outputs": [],
   "source": [
    "public static void permutation(int[] arr, int[] output, boolean[] visited, int depth, int r, HashSet<Integer> result){\n",
    "    if(depth == r){\n",
    "        StringBuilder sb = new StringBuilder();\n",
    "        for(int i = 0; i<output.length; i++){\n",
    "            sb.append(output[i]);\n",
    "        }\n",
    "        result.add(Integer.parseInt(sb.toString()));\n",
    "        // System.out.println(sb.toString());\n",
    "        return;\n",
    "    }\n",
    "\n",
    "    for(int i = 0; i < arr.length; i++){\n",
    "        if(!visited[i]) {\n",
    "            visited[i] = true;\n",
    "            output[depth] = arr[i];\n",
    "            permutation(arr, output, visited, depth + 1, r, result);\n",
    "            visited[i] = false;\n",
    "        }\n",
    "    }\n",
    "}"
   ]
  },
  {
   "cell_type": "markdown",
   "metadata": {},
   "source": [
    "## 다른 사람 best 풀이\n",
    "\n",
    "```java\n",
    "import java.util.HashSet;\n",
    "class Solution {\n",
    "    public int solution(String numbers) {\n",
    "        HashSet<Integer> set = new HashSet<>();\n",
    "        permutation(\"\", numbers, set);\n",
    "        int count = 0;\n",
    "        while(set.iterator().hasNext()){\n",
    "            int a = set.iterator().next();\n",
    "            set.remove(a);\n",
    "            if(a==2) count++;\n",
    "            if(a%2!=0 && isPrime(a)){\n",
    "                count++;\n",
    "            }\n",
    "        }        \n",
    "        return count;\n",
    "    }\n",
    "\n",
    "    public boolean isPrime(int n){\n",
    "        if(n==0 || n==1) return false;\n",
    "        for(int i=3; i<=(int)Math.sqrt(n); i+=2){ // 제곱근보다 작은 수까지만 나눠도 소수임을 확인 할 수 있음\n",
    "            if(n%i==0) return false;\n",
    "        }\n",
    "        return true;\n",
    "    }\n",
    "\n",
    "        public void permutation(String prefix, String str, HashSet<Integer> set) {\n",
    "        int n = str.length();\n",
    "        //if (n == 0) System.out.println(prefix);\n",
    "        if(!prefix.equals(\"\")) set.add(Integer.valueOf(prefix)); // 애초에 문자열로 시작하는게 더 깔끔하게 시작할 수 있는듯하다. 모든 조합을 그냥 set으로 받아 처리\n",
    "        for (int i = 0; i < n; i++)\n",
    "          permutation(prefix + str.charAt(i), str.substring(0, i) + str.substring(i+1, n), set); \n",
    "          /** [123] -> \n",
    "           * 1) [1] [23], [2] [13], [3] [12]/ \n",
    "           * 2) [12] [3], [13], [2], [21] [3], [23] [1], [31] [2], [32] [1] \n",
    "           이런식으로 진행됨. python 문법 마냥 배열을 잘 잘라서 넣었다.\n",
    "           */\n",
    "\n",
    "    }\n",
    "\n",
    "}\n",
    "```"
   ]
  },
  {
   "cell_type": "code",
   "execution_count": null,
   "metadata": {
    "vscode": {
     "languageId": "java"
    }
   },
   "outputs": [],
   "source": []
  }
 ],
 "metadata": {
  "kernelspec": {
   "display_name": "Java",
   "language": "java",
   "name": "java"
  },
  "language_info": {
   "codemirror_mode": "java",
   "file_extension": ".jshell",
   "mimetype": "text/x-java-source",
   "name": "Java",
   "pygments_lexer": "java",
   "version": "17.0.4.1+1"
  }
 },
 "nbformat": 4,
 "nbformat_minor": 2
}
