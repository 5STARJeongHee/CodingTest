{
 "cells": [
  {
   "cell_type": "code",
   "execution_count": 49,
   "id": "f4780588",
   "metadata": {},
   "outputs": [],
   "source": [
    "import java.util.*;\n",
    "import java.util.stream.Collectors;\n",
    "\n",
    "public class Solution{\n",
    "   public String solution(int[] numbers) {\n",
    "        StringBuilder answer = new StringBuilder();\n",
    "        PriorityQueue<String> queue = new PriorityQueue<>(Comparator.reverseOrder());\n",
    "       \n",
    "       int initMax = Arrays.stream(numbers).max().getAsInt();\n",
    "        if(initMax == 0){\n",
    "            return \"0\";\n",
    "        }\n",
    "\n",
    "        for(int i: numbers){\n",
    "            queue.offer(String.valueOf(i).repeat(3));\n",
    "        }\n",
    "        while(!queue.isEmpty()){\n",
    "            String temp = queue.poll();\n",
    "            answer.append(temp.substring(0,temp.length()/3));\n",
    "        }\n",
    "        return answer.toString();\n",
    "    }\n",
    "}\n"
   ]
  },
  {
   "cell_type": "code",
   "execution_count": 50,
   "id": "300cf855",
   "metadata": {},
   "outputs": [
    {
     "data": {
      "text/plain": [
       "9534330"
      ]
     },
     "execution_count": 50,
     "metadata": {},
     "output_type": "execute_result"
    }
   ],
   "source": [
    "int[] arr = {3, 30, 34, 5, 9};\n",
    "\n",
    "Solution sol =new Solution();\n",
    "sol.solution(arr);\n"
   ]
  },
  {
   "cell_type": "code",
   "execution_count": null,
   "id": "8cbe10bd",
   "metadata": {},
   "outputs": [],
   "source": []
  }
 ],
 "metadata": {
  "kernelspec": {
   "display_name": "Java",
   "language": "java",
   "name": "java"
  },
  "language_info": {
   "codemirror_mode": "java",
   "file_extension": ".jshell",
   "mimetype": "text/x-java-source",
   "name": "Java",
   "pygments_lexer": "java",
   "version": "17.0.4.1+1"
  }
 },
 "nbformat": 4,
 "nbformat_minor": 5
}
