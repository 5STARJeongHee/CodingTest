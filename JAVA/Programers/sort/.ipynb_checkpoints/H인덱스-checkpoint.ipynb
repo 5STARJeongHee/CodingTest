{
 "cells": [
  {
   "cell_type": "code",
   "execution_count": 17,
   "id": "1475d004",
   "metadata": {},
   "outputs": [],
   "source": [
    "import java.util.*;\n",
    "import java.util.stream.Collectors;\n",
    "\n",
    "public class Solution {\n",
    "    public int solution(int[] citations) {\n",
    "        int answer = 0;\n",
    "        int h_index = citations.length;\n",
    "        int len = citations.length;\n",
    "        int cnt = 0;\n",
    "        int idx = 0;\n",
    "\n",
    "        List<Integer> list = Arrays.stream(citations).boxed().collect(Collectors.toList());\n",
    "        list.sort((o1, o2) -> o2-o1);\n",
    "\n",
    "        while(true){\n",
    "            int temp = list.get(idx);\n",
    "            if(h_index <= temp){\n",
    "                cnt++;\n",
    "                idx++;\n",
    "//                 System.out.println(\"1cnt:h_index:left-\"+cnt+\":\"+h_index+\":\"+(len-cnt));\n",
    "            \n",
    "            } else{\n",
    "                h_index--;\n",
    "//                 System.out.println(\"2cnt:h_index:left-\"+cnt+\":\"+h_index+\":\"+(len-cnt));\n",
    "            }\n",
    "            \n",
    "            if(cnt >= h_index && (len - cnt) <= h_index){\n",
    "                    answer = h_index;\n",
    "                    break;\n",
    "            }\n",
    "        }\n",
    "        return answer;\n",
    "    }\n",
    "}\n"
   ]
  },
  {
   "cell_type": "code",
   "execution_count": 18,
   "id": "279b8b2f",
   "metadata": {},
   "outputs": [
    {
     "name": "stdout",
     "output_type": "stream",
     "text": [
      "2cnt:h_index:left-0:7:8\n",
      "2cnt:h_index:left-0:6:8\n",
      "1cnt:h_index:left-1:6:7\n",
      "2cnt:h_index:left-1:5:7\n",
      "1cnt:h_index:left-2:5:6\n",
      "1cnt:h_index:left-3:5:5\n",
      "1cnt:h_index:left-4:5:4\n",
      "2cnt:h_index:left-4:4:4\n"
     ]
    },
    {
     "data": {
      "text/plain": [
       "4"
      ]
     },
     "execution_count": 18,
     "metadata": {},
     "output_type": "execute_result"
    }
   ],
   "source": [
    "Solution sol = new Solution();\n",
    "int[] arr = {3, 0, 6, 1, 5,5,5,2};\n",
    "\n",
    "sol.solution(arr);\n"
   ]
  },
  {
   "cell_type": "code",
   "execution_count": null,
   "id": "c1cf22a5",
   "metadata": {},
   "outputs": [],
   "source": []
  }
 ],
 "metadata": {
  "kernelspec": {
   "display_name": "Java",
   "language": "java",
   "name": "java"
  },
  "language_info": {
   "codemirror_mode": "java",
   "file_extension": ".jshell",
   "mimetype": "text/x-java-source",
   "name": "Java",
   "pygments_lexer": "java",
   "version": "17.0.4.1+1"
  }
 },
 "nbformat": 4,
 "nbformat_minor": 5
}
