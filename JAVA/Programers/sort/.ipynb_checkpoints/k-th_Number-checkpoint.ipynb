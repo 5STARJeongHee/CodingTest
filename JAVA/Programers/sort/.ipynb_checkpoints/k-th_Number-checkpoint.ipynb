{
 "cells": [
  {
   "cell_type": "code",
   "execution_count": 37,
   "id": "b64f380d",
   "metadata": {},
   "outputs": [],
   "source": [
    "import java.util.*;\n",
    "import java.util.stream.Collectors;\n",
    "class Solution {\n",
    "    public int[] solution(int[] array, int[][] commands) {\n",
    "        int[] answer = new int[commands.length];\n",
    "        for(int i = 0; i<commands.length; i++){\n",
    "            answer[i] = execute(array, commands[i]);\n",
    "        }\n",
    "        return answer;\n",
    "    }\n",
    "\n",
    "    private int execute(int[] array, int[] com){\n",
    "        int[] temp = Arrays.copyOfRange(array,com[0]-1,com[1]);\n",
    "        Arrays.sort(temp);\n",
    "        return temp[com[2]-1];\n",
    "    }\n",
    "}\n"
   ]
  },
  {
   "cell_type": "code",
   "execution_count": 38,
   "id": "54409f95",
   "metadata": {},
   "outputs": [
    {
     "name": "stdout",
     "output_type": "stream",
     "text": [
      "2356\n",
      "6\n",
      "1234567\n",
      "5\n",
      "6\n",
      "3\n"
     ]
    }
   ],
   "source": [
    "int[] arr = {1, 5, 2, 6, 3, 7, 4};\n",
    "int[][] coms = {{2,5,3},{4,4,1},{1,7,3}};\n",
    "\n",
    "Solution sol = new Solution();\n",
    "int[] answers = sol.solution(arr, coms);\n",
    "\n",
    "for(int i : answers){\n",
    "    System.out.println(i);\n",
    "}\n"
   ]
  },
  {
   "cell_type": "code",
   "execution_count": null,
   "id": "8a2deb72",
   "metadata": {},
   "outputs": [],
   "source": []
  }
 ],
 "metadata": {
  "kernelspec": {
   "display_name": "Java",
   "language": "java",
   "name": "java"
  },
  "language_info": {
   "codemirror_mode": "java",
   "file_extension": ".jshell",
   "mimetype": "text/x-java-source",
   "name": "Java",
   "pygments_lexer": "java",
   "version": "17.0.4.1+1"
  }
 },
 "nbformat": 4,
 "nbformat_minor": 5
}
