{
 "cells": [
  {
   "cell_type": "markdown",
   "metadata": {},
   "source": [
    "# 큰 수 만들기\n",
    "## 프로그래머스 2단계 탐욕법\n",
    "\n",
    "```html\n",
    "어떤 숫자에서 k개의 수를 제거했을 때 얻을 수 있는 가장 큰 숫자를 구하려 합니다.\n",
    "\n",
    "예를 들어, 숫자 1924에서 수 두 개를 제거하면 [19, 12, 14, 92, 94, 24] 를 만들 수 있습니다. 이 중 가장 큰 숫자는 94 입니다.\n",
    "\n",
    "문자열 형식으로 숫자 number와 제거할 수의 개수 k가 solution 함수의 매개변수로 주어집니다. number에서 k 개의 수를 제거했을 때 만들 수 있는 수 중 가장 큰 숫자를 문자열 형태로 return 하도록 solution 함수를 완성하세요.\n",
    "\n",
    "제한 조건\n",
    "number는 2자리 이상, 1,000,000자리 이하인 숫자입니다.\n",
    "k는 1 이상 number의 자릿수 미만인 자연수입니다.\n",
    "입출력 예\n",
    "number\tk\treturn\n",
    "\"1924\"\t2\t\"94\"\n",
    "\"1231234\"\t3\t\"3234\"\n",
    "\"4177252841\"\t4\t\"775841\"\n",
    "```"
   ]
  },
  {
   "cell_type": "code",
   "execution_count": 33,
   "metadata": {
    "vscode": {
     "languageId": "java"
    }
   },
   "outputs": [],
   "source": [
    "import java.util.*;\n",
    "public String solution(String number, int k) {\n",
    "    String answer = \"\";\n",
    "    int start = 0;\n",
    "    int remain = number.length() -k;\n",
    "    for(int i=0; i<remain; i++) {\n",
    "        char max = 0;\n",
    "        for(int j = start; j <= number.length()-(remain-i); j++) {\n",
    "            char compare = number.charAt(j);\n",
    "        \n",
    "            if(max < compare){\n",
    "                max = compare;\n",
    "                start = j+1;\n",
    "            }\n",
    "            if(compare == '9') {\n",
    "                break;\n",
    "            }\n",
    "        }\n",
    "        answer += max;\n",
    "    }\n",
    "    return answer;\n",
    "}"
   ]
  },
  {
   "cell_type": "code",
   "execution_count": 40,
   "metadata": {
    "vscode": {
     "languageId": "java"
    }
   },
   "outputs": [
    {
     "name": "stdout",
     "output_type": "stream",
     "text": [
      "94\n",
      "3234\n",
      "777848\n",
      "89\n"
     ]
    }
   ],
   "source": [
    "String num1 = \"1924\";\n",
    "int k1 = 2;\n",
    "\n",
    "String num2 = \"1231234\";\n",
    "int k2 = 3;\n",
    "\n",
    "String num3 = \"4177252841\";\n",
    "int k3 = 4;\n",
    "\n",
    "String num4 = \"123456789\";\n",
    "int k4 = 7;\n",
    "\n",
    "System.out.println(solution(num1, k1));\n",
    "System.out.println(solution(num2, k2));\n",
    "System.out.println(solution(num3, k3));\n",
    "System.out.println(solution(num4, k4));\n"
   ]
  },
  {
   "cell_type": "code",
   "execution_count": null,
   "metadata": {
    "vscode": {
     "languageId": "java"
    }
   },
   "outputs": [],
   "source": []
  }
 ],
 "metadata": {
  "kernelspec": {
   "display_name": "Java",
   "language": "java",
   "name": "java"
  },
  "language_info": {
   "codemirror_mode": "java",
   "file_extension": ".jshell",
   "mimetype": "text/x-java-source",
   "name": "Java",
   "pygments_lexer": "java",
   "version": "17.0.4.1+1"
  }
 },
 "nbformat": 4,
 "nbformat_minor": 2
}
