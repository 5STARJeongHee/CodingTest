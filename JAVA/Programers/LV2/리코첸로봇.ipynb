{
 "cells": [
  {
   "cell_type": "markdown",
   "metadata": {},
   "source": [
    "## 프로그래머스 2단계 문제\n",
    "# 리코쳇 로봇\n",
    "\n",
    "```html\n",
    "리코쳇 로봇이라는 보드게임이 있습니다.\n",
    "\n",
    "이 보드게임은 격자모양 게임판 위에서 말을 움직이는 게임으로, 시작 위치에서 목표 위치까지 최소 몇 번만에 도달할 수 있는지 말하는 게임입니다.\n",
    "\n",
    "이 게임에서 말의 움직임은 상, 하, 좌, 우 4방향 중 하나를 선택해서 게임판 위의 장애물이나 맨 끝에 부딪힐 때까지 미끄러져 이동하는 것을 한 번의 이동으로 칩니다.\n",
    "\n",
    "다음은 보드게임판을 나타낸 예시입니다.\n",
    "\n",
    "...D..R\n",
    ".D.G...\n",
    "....D.D\n",
    "D....D.\n",
    "..D....\n",
    "여기서 \".\"은 빈 공간을, \"R\"은 로봇의 처음 위치를, \"D\"는 장애물의 위치를, \"G\"는 목표지점을 나타냅니다.\n",
    "위 예시에서는 \"R\" 위치에서 아래, 왼쪽, 위, 왼쪽, 아래, 오른쪽, 위 순서로 움직이면 7번 만에 \"G\" 위치에 멈춰 설 수 있으며, 이것이 최소 움직임 중 하나입니다.\n",
    "\n",
    "게임판의 상태를 나타내는 문자열 배열 board가 주어졌을 때, 말이 목표위치에 도달하는데 최소 몇 번 이동해야 하는지 return 하는 solution함수를 완성하세요. 만약 목표위치에 도달할 수 없다면 -1을 return 해주세요.\n",
    "\n",
    "제한 사항\n",
    "3 ≤ board의 길이 ≤ 100\n",
    "3 ≤ board의 원소의 길이 ≤ 100\n",
    "board의 원소의 길이는 모두 동일합니다.\n",
    "문자열은 \".\", \"D\", \"R\", \"G\"로만 구성되어 있으며 각각 빈 공간, 장애물, 로봇의 처음 위치, 목표 지점을 나타냅니다.\n",
    "\"R\"과 \"G\"는 한 번씩 등장합니다.\n",
    "입출력 예\n",
    "board\tresult\n",
    "[\"...D..R\", \".D.G...\", \"....D.D\", \"D....D.\", \"..D....\"]\t7\n",
    "[\".D.R\", \"....\", \".G..\", \"...D\"]\t-1\n",
    "입출력 예 설명\n",
    "입출력 예 #1\n",
    "\n",
    "문제 설명의 예시와 같습니다.\n",
    "입출력 예 #2\n",
    "\n",
    ".D.R\n",
    "....\n",
    ".G..\n",
    "...D\n",
    "\"R\" 위치에 있는 말을 어떻게 움직여도 \"G\" 에 도달시킬 수 없습니다.\n",
    "따라서 -1을 return 합니다.\n",
    "```"
   ]
  },
  {
   "cell_type": "code",
   "execution_count": 65,
   "metadata": {
    "vscode": {
     "languageId": "java"
    }
   },
   "outputs": [],
   "source": [
    "import java.util.*;\n",
    "public int solution(String[] board) {\n",
    "        int answer = 0;\n",
    "        int[] start = findRobot(board);\n",
    "        \n",
    "        int[][] visited = getVisited(board);\n",
    "        for(int i = 0; i<visited.length; i++){\n",
    "                for(int j = 0 ; j<visited[0].length; j++){\n",
    "                        System.out.print(\" \"+visited[i][j]+\" \");\n",
    "                }\n",
    "                System.out.println();\n",
    "        }\n",
    "        answer = bfs(board, start, visited);\n",
    "        return answer;\n",
    "}\n",
    "\n",
    "private int[] findRobot(String[] board){\n",
    "    int[] loc = new int[2];\n",
    "    for(int i = 0; i< board.length; i++){\n",
    "        String b = board[i];\n",
    "        for(int j = 0; j< b.length(); j++){\n",
    "            if(b.charAt(j) == 'R'){\n",
    "                loc[0] = i;\n",
    "                loc[1] = j;\n",
    "                break;\n",
    "            }\n",
    "        }\n",
    "    }\n",
    "    return loc;\n",
    "}\n",
    "private int[][] getVisited(String[] board){\n",
    "    int[][] result = new int[board.length][board[0].length()];\n",
    "    for(int i = 0; i < board.length; i++){\n",
    "        for(int j = 0; j < board[0].length(); j++){\n",
    "            if(board[i].charAt(j) == '.'){\n",
    "                result[i][j] = 0;\n",
    "            } else{\n",
    "                result[i][j] = -1;\n",
    "            }\n",
    "        }\n",
    "    }\n",
    "    return result;\n",
    "}\n",
    "private int bfs(String[] board, int[] start, int[][] visited){\n",
    "    int[] dirX = new int[]{0,0,-1,1};\n",
    "    int[] dirY = new int[]{-1,1,0,0};\n",
    "    \n",
    "    ArrayList<Integer[]> q = new ArrayList<>();\n",
    "    q.add(Arrays.stream(start).boxed().toArray(Integer[]::new));\n",
    "    visited[start[0]][start[1]] = 1;\n",
    "\n",
    "    while(!q.isEmpty()){\n",
    "        Integer[] v = q.remove(0);\n",
    "        \n",
    "        // System.out.println(\"start : \" + v[0] + \",\"+v[1]);\n",
    "        for(int i = 0; i<dirX.length; i++){\n",
    "            Integer[] t = v.clone();    \n",
    "            while(!(board[t[0]].charAt(t[1]) == 'D')) {\n",
    "                t[1] += dirX[i];\n",
    "                t[0] += dirY[i];\n",
    "                if(t[0] >= board.length || t[0] < 0 || t[1] >= board[0].length() || t[1] < 0 ){\n",
    "                    break;\n",
    "                }\n",
    "                // System.out.println(\"now moved (\"+dirX[i]+\",\"+dirY[i]+\"): \" + t[0] + \",\"+t[1]);\n",
    "            }\n",
    "            t[1] -= dirX[i];\n",
    "            t[0] -= dirY[i];\n",
    "        //     System.out.println(\"now arrived (\"+dirX[i]+\",\"+dirY[i]+\"): \" + t[0] + \",\"+t[1]);\n",
    "            if(board[t[0]].charAt(t[1]) == 'G'){\n",
    "                // System.out.println(\"arrived G (\"+dirX[i]+\",\"+dirY[i]+\"): \" + t[0] + \",\"+t[1]);\n",
    "                return visited[v[0]][v[1]];\n",
    "            }\n",
    "            if(visited[t[0]][t[1]] <= 0){\n",
    "                // System.out.println(\"now added : \" + t[0] + \",\"+t[1]);\n",
    "                q.add(t);\n",
    "                visited[t[0]][t[1]] = visited[v[0]][v[1]] + 1;\n",
    "            }\n",
    "\n",
    "        }\n",
    "        \n",
    "    }\n",
    "    return -1;\n",
    "}"
   ]
  },
  {
   "cell_type": "code",
   "execution_count": null,
   "metadata": {
    "vscode": {
     "languageId": "java"
    }
   },
   "outputs": [],
   "source": [
    "String[] board = {\"...D..R\", \".D.G...\", \"....D.D\", \"D....D.\", \"..D....\"};\n",
    "solution(board);\n",
    "\n",
    "// String[] board2 = {\".D.R\", \"....\", \".G..\", \"...D\"};\n",
    "// solution(board2)"
   ]
  },
  {
   "cell_type": "markdown",
   "metadata": {},
   "source": [
    "\n",
    "접근 방식:\n",
    "1. 좌표를 통해 이동을 하는 것을 보아 그래프 또는 길찾기 ,bfs, dfs 문제 일것\n",
    "2. 이동 방향이 4방향이며 , 각 로봇이 멈춘 곳이 하나의 노드가 될것\n",
    "3. 노드가 연결되어 있는 부분을 표현하는게 까다로운데 bfs 알고리즘에서 연결된 부분을 하나하나 꺼내오는데, 여기선 연결된 부분을 알지 못해 하나하나 꺼내오진 못하고 이어서 연결된 부분을 찾아야 한다.\n",
    "4. 큐에서 꺼내는 것으로 로봇의 이동 거리를 잴 수가 없어서 방문 할 때마다 출발 지점으로 부터 1씩 더해 이동 거리를 잰다."
   ]
  },
  {
   "cell_type": "code",
   "execution_count": null,
   "metadata": {
    "vscode": {
     "languageId": "java"
    }
   },
   "outputs": [],
   "source": []
  }
 ],
 "metadata": {
  "kernelspec": {
   "display_name": "Java",
   "language": "java",
   "name": "java"
  },
  "language_info": {
   "codemirror_mode": "java",
   "file_extension": ".jshell",
   "mimetype": "text/x-java-source",
   "name": "Java",
   "pygments_lexer": "java",
   "version": "17.0.4.1+1"
  }
 },
 "nbformat": 4,
 "nbformat_minor": 2
}
