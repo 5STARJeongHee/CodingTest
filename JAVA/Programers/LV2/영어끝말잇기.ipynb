{
 "cells": [
  {
   "cell_type": "markdown",
   "metadata": {},
   "source": [
    "# 프로그래머스 2단계\n",
    "## 영어 끝말잇기\n",
    "\n",
    "```text\n",
    "문제 설명\n",
    "1부터 n까지 번호가 붙어있는 n명의 사람이 영어 끝말잇기를 하고 있습니다. 영어 끝말잇기는 다음과 같은 규칙으로 진행됩니다.\n",
    "\n",
    "1번부터 번호 순서대로 한 사람씩 차례대로 단어를 말합니다.\n",
    "마지막 사람이 단어를 말한 다음에는 다시 1번부터 시작합니다.\n",
    "앞사람이 말한 단어의 마지막 문자로 시작하는 단어를 말해야 합니다.\n",
    "이전에 등장했던 단어는 사용할 수 없습니다.\n",
    "한 글자인 단어는 인정되지 않습니다.\n",
    "다음은 3명이 끝말잇기를 하는 상황을 나타냅니다.\n",
    "\n",
    "tank → kick → know → wheel → land → dream → mother → robot → tank\n",
    "\n",
    "위 끝말잇기는 다음과 같이 진행됩니다.\n",
    "\n",
    "1번 사람이 자신의 첫 번째 차례에 tank를 말합니다.\n",
    "2번 사람이 자신의 첫 번째 차례에 kick을 말합니다.\n",
    "3번 사람이 자신의 첫 번째 차례에 know를 말합니다.\n",
    "1번 사람이 자신의 두 번째 차례에 wheel을 말합니다.\n",
    "(계속 진행)\n",
    "끝말잇기를 계속 진행해 나가다 보면, 3번 사람이 자신의 세 번째 차례에 말한 tank 라는 단어는 이전에 등장했던 단어이므로 탈락하게 됩니다.\n",
    "\n",
    "사람의 수 n과 사람들이 순서대로 말한 단어 words 가 매개변수로 주어질 때, 가장 먼저 탈락하는 사람의 번호와 그 사람이 자신의 몇 번째 차례에 탈락하는지를 구해서 return 하도록 solution 함수를 완성해주세요.\n",
    "\n",
    "제한 사항\n",
    "끝말잇기에 참여하는 사람의 수 n은 2 이상 10 이하의 자연수입니다.\n",
    "words는 끝말잇기에 사용한 단어들이 순서대로 들어있는 배열이며, 길이는 n 이상 100 이하입니다.\n",
    "단어의 길이는 2 이상 50 이하입니다.\n",
    "모든 단어는 알파벳 소문자로만 이루어져 있습니다.\n",
    "끝말잇기에 사용되는 단어의 뜻(의미)은 신경 쓰지 않으셔도 됩니다.\n",
    "정답은 [ 번호, 차례 ] 형태로 return 해주세요.\n",
    "만약 주어진 단어들로 탈락자가 생기지 않는다면, [0, 0]을 return 해주세요.\n",
    "입출력 예\n",
    "n\twords\tresult\n",
    "3\t[\"tank\", \"kick\", \"know\", \"wheel\", \"land\", \"dream\", \"mother\", \"robot\", \"tank\"]\t[3,3]\n",
    "5\t[\"hello\", \"observe\", \"effect\", \"take\", \"either\", \"recognize\", \"encourage\", \"ensure\", \"establish\", \"hang\", \"gather\", \"refer\", \"reference\", \"estimate\", \"executive\"]\t[0,0]\n",
    "2\t[\"hello\", \"one\", \"even\", \"never\", \"now\", \"world\", \"draw\"]\t[1,3]\n",
    "입출력 예 설명\n",
    "입출력 예 #1\n",
    "3명의 사람이 끝말잇기에 참여하고 있습니다.\n",
    "\n",
    "1번 사람 : tank, wheel, mother\n",
    "2번 사람 : kick, land, robot\n",
    "3번 사람 : know, dream, tank\n",
    "와 같은 순서로 말을 하게 되며, 3번 사람이 자신의 세 번째 차례에 말한 tank라는 단어가 1번 사람이 자신의 첫 번째 차례에 말한 tank와 같으므로 3번 사람이 자신의 세 번째 차례로 말을 할 때 처음 탈락자가 나오게 됩니다.\n",
    "\n",
    "입출력 예 #2\n",
    "5명의 사람이 끝말잇기에 참여하고 있습니다.\n",
    "\n",
    "1번 사람 : hello, recognize, gather\n",
    "2번 사람 : observe, encourage, refer\n",
    "3번 사람 : effect, ensure, reference\n",
    "4번 사람 : take, establish, estimate\n",
    "5번 사람 : either, hang, executive\n",
    "와 같은 순서로 말을 하게 되며, 이 경우는 주어진 단어로만으로는 탈락자가 발생하지 않습니다. 따라서 [0, 0]을 return하면 됩니다.\n",
    "\n",
    "입출력 예 #3\n",
    "2명의 사람이 끝말잇기에 참여하고 있습니다.\n",
    "\n",
    "1번 사람 : hello, even, now, draw\n",
    "2번 사람 : one, never, world\n",
    "와 같은 순서로 말을 하게 되며, 1번 사람이 자신의 세 번째 차례에 'r'로 시작하는 단어 대신, n으로 시작하는 now를 말했기 때문에 이때 처음 탈락자가 나오게 됩니다.\n",
    "```"
   ]
  },
  {
   "cell_type": "code",
   "execution_count": 39,
   "metadata": {
    "vscode": {
     "languageId": "java"
    }
   },
   "outputs": [],
   "source": [
    "import java.util.*;\n",
    "\n",
    "public int[] solution(int n, String[] words) {\n",
    "    int[] answer = new int[]{0,0};\n",
    "\n",
    "    HashSet<String> answerSet = new HashSet<String>();\n",
    "    int now = 1;\n",
    "    int order = 0;\n",
    "    int limit = words.length/n + (words.length%n !=0 ? 1 : 0);\n",
    "    answerSet.add(words[0]);\n",
    "    while(order < limit) {\n",
    "        order = now / n;\n",
    "        String cur = words[now];\n",
    "        String prev = words[now-1];\n",
    "        if(prev.endsWith(cur.substring(0,1)) && !answerSet.contains(words[now])){\n",
    "            answerSet.add(words[now]);\n",
    "            now++;\n",
    "        }\n",
    "        else{\n",
    "            answer[0] = now % n + 1;\n",
    "            answer[1] = order + 1;\n",
    "            break;\n",
    "        }\n",
    "        if(now == words.length){\n",
    "            break;\n",
    "        }\n",
    "    }\n",
    "    return answer;\n",
    "}"
   ]
  },
  {
   "cell_type": "code",
   "execution_count": 40,
   "metadata": {
    "vscode": {
     "languageId": "java"
    }
   },
   "outputs": [
    {
     "name": "stdout",
     "output_type": "stream",
     "text": [
      "now: 1 cur: kick prev: tank\n",
      "now: 2 cur: know prev: kick\n",
      "now: 3 cur: wheel prev: know\n",
      "now: 4 cur: land prev: wheel\n",
      "now: 5 cur: dream prev: land\n",
      "now: 6 cur: mother prev: dream\n",
      "now: 7 cur: robot prev: mother\n",
      "end: 8 cur: tank prev: robot\n",
      "now: 1 cur: observe prev: hello\n",
      "now: 2 cur: effect prev: observe\n",
      "now: 3 cur: take prev: effect\n",
      "now: 4 cur: either prev: take\n",
      "now: 5 cur: recognize prev: either\n",
      "now: 6 cur: encourage prev: recognize\n",
      "now: 7 cur: ensure prev: encourage\n",
      "now: 8 cur: establish prev: ensure\n",
      "now: 9 cur: hang prev: establish\n",
      "now: 10 cur: gather prev: hang\n",
      "now: 11 cur: refer prev: gather\n",
      "now: 12 cur: reference prev: refer\n",
      "now: 13 cur: estimate prev: reference\n",
      "now: 14 cur: executive prev: estimate\n",
      "now: 1 cur: one prev: hello\n",
      "now: 2 cur: even prev: one\n",
      "now: 3 cur: never prev: even\n",
      "end: 4 cur: now prev: never\n",
      "ans1: 3 3\n",
      "ans2: 0 0\n",
      "an32: 1 3\n"
     ]
    }
   ],
   "source": [
    "String[] d1 = new String[]{\"tank\", \"kick\", \"know\", \"wheel\", \"land\", \"dream\", \"mother\", \"robot\", \"tank\"};\n",
    "String[] d2 = new String[]{\"hello\", \"observe\", \"effect\", \"take\", \"either\", \"recognize\", \"encourage\", \"ensure\", \"establish\", \"hang\", \"gather\", \"refer\", \"reference\", \"estimate\", \"executive\"};\n",
    "String[] d3 = new String[]{\"hello\", \"one\", \"even\", \"never\", \"now\", \"world\", \"draw\"};\n",
    "\n",
    "int[] a1 = solution(3,d1);\n",
    "int[] a2 = solution(5,d2);\n",
    "int[] a3 = solution(2,d3);\n",
    "\n",
    "System.out.println(\"ans1: \" + a1[0] + \" \" + a1[1]);\n",
    "System.out.println(\"ans2: \" + a2[0] + \" \" + a2[1]);\n",
    "System.out.println(\"an32: \" + a3[0] + \" \" + a3[1]);"
   ]
  },
  {
   "cell_type": "code",
   "execution_count": 36,
   "metadata": {
    "vscode": {
     "languageId": "java"
    }
   },
   "outputs": [
    {
     "data": {
      "text/plain": [
       "true"
      ]
     },
     "execution_count": 36,
     "metadata": {},
     "output_type": "execute_result"
    }
   ],
   "source": [
    "\"never\".endsWith(\"now\".substring(0,1))"
   ]
  },
  {
   "cell_type": "code",
   "execution_count": 38,
   "metadata": {
    "vscode": {
     "languageId": "java"
    }
   },
   "outputs": [
    {
     "data": {
      "text/plain": [
       "n"
      ]
     },
     "execution_count": 38,
     "metadata": {},
     "output_type": "execute_result"
    }
   ],
   "source": [
    "\"now\".substring(0,1)"
   ]
  }
 ],
 "metadata": {
  "kernelspec": {
   "display_name": "Java",
   "language": "java",
   "name": "java"
  },
  "language_info": {
   "codemirror_mode": "java",
   "file_extension": ".jshell",
   "mimetype": "text/x-java-source",
   "name": "Java",
   "pygments_lexer": "java",
   "version": "17.0.4.1+1"
  }
 },
 "nbformat": 4,
 "nbformat_minor": 2
}
