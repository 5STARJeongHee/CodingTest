{
 "cells": [
  {
   "cell_type": "markdown",
   "metadata": {},
   "source": [
    "# 프로그래머스 2단계 구명보트 \n",
    "### 탐욕법\n",
    "\n",
    "```html\n",
    "무인도에 갇힌 사람들을 구명보트를 이용하여 구출하려고 합니다. 구명보트는 작아서 한 번에 최대 2명씩 밖에 탈 수 없고, 무게 제한도 있습니다.\n",
    "\n",
    "예를 들어, 사람들의 몸무게가 [70kg, 50kg, 80kg, 50kg]이고 구명보트의 무게 제한이 100kg이라면 2번째 사람과 4번째 사람은 같이 탈 수 있지만 1번째 사람과 3번째 사람의 무게의 합은 150kg이므로 구명보트의 무게 제한을 초과하여 같이 탈 수 없습니다.\n",
    "\n",
    "구명보트를 최대한 적게 사용하여 모든 사람을 구출하려고 합니다.\n",
    "\n",
    "사람들의 몸무게를 담은 배열 people과 구명보트의 무게 제한 limit가 매개변수로 주어질 때, 모든 사람을 구출하기 위해 필요한 구명보트 개수의 최솟값을 return 하도록 solution 함수를 작성해주세요.\n",
    "\n",
    "제한사항\n",
    "무인도에 갇힌 사람은 1명 이상 50,000명 이하입니다.\n",
    "각 사람의 몸무게는 40kg 이상 240kg 이하입니다.\n",
    "구명보트의 무게 제한은 40kg 이상 240kg 이하입니다.\n",
    "구명보트의 무게 제한은 항상 사람들의 몸무게 중 최댓값보다 크게 주어지므로 사람들을 구출할 수 없는 경우는 없습니다.\n",
    "입출력 예\n",
    "people\tlimit\treturn\n",
    "[70, 50, 80, 50]\t100\t3\n",
    "[70, 80, 50]\t100\t3\n",
    "```"
   ]
  },
  {
   "cell_type": "code",
   "execution_count": 3,
   "metadata": {
    "vscode": {
     "languageId": "java"
    }
   },
   "outputs": [],
   "source": [
    "import java.util.*;\n",
    "\n",
    "public int solution(int[] people, int limit) {\n",
    "    int answer = 0;\n",
    "    int sum = 0;\n",
    "    List<Integer> bigList = null;\n",
    "    List<Integer> smallList = null;\n",
    "\n",
    "    for(int n: people){\n",
    "        sum += n;\n",
    "    }\n",
    "    int avg = sum/limit;\n",
    "    int r = sum%limit;\n",
    "\n",
    "    for(int n: people){\n",
    "        if(n > avg){\n",
    "            bigList.add(n);\n",
    "        } else {\n",
    "            smallList.add(n);\n",
    "        }\n",
    "    }\n",
    "\n",
    "    Collections.reverse(bigList);\n",
    "    Collections.reverse(smallList);\n",
    "\n",
    "    while(bigList.size())\n",
    "        int big = bigList.remove(0);\n",
    "        int tmpSum = 0;\n",
    "        while(smallList.size()){\n",
    "            int small = smallList.remove(0);\n",
    "            if(tmpSum + small + big <= limit){\n",
    "                tmpSum += small + big;\n",
    "            } else{\n",
    "\n",
    "            }\n",
    "        }\n",
    "    }\n",
    "    \n",
    "    return answer;\n",
    "}"
   ]
  },
  {
   "cell_type": "code",
   "execution_count": 36,
   "metadata": {
    "vscode": {
     "languageId": "java"
    }
   },
   "outputs": [],
   "source": [
    "import java.util.*;\n",
    "public int solution(int[] people, int limit) {\n",
    "    int answer = 0;\n",
    "\n",
    "    Arrays.sort(people);\n",
    "\n",
    "    int weightSum = 0;\n",
    "    int heavy_idx = people.length - 1;\n",
    "    int light_idx = 0;\n",
    "    while(heavy_idx > light_idx){\n",
    "        \n",
    "        if(weightSum + people[heavy_idx] + people[light_idx] <= limit){\n",
    "            answer++;\n",
    "            heavy_idx--;\n",
    "            light_idx++;\n",
    "        }else {\n",
    "            answer++;\n",
    "            heavy_idx--;\n",
    "        }\n",
    "        if(heavy_idx == light_idx){\n",
    "            answer++;\n",
    "        }\n",
    "    }\n",
    "\n",
    "    return answer;\n",
    "}"
   ]
  },
  {
   "cell_type": "code",
   "execution_count": 37,
   "metadata": {
    "vscode": {
     "languageId": "java"
    }
   },
   "outputs": [
    {
     "data": {
      "text/plain": [
       "3"
      ]
     },
     "execution_count": 37,
     "metadata": {},
     "output_type": "execute_result"
    }
   ],
   "source": [
    "int[] p1 = {70, 50, 80, 50};\n",
    "int l1 = 100;\n",
    "\n",
    "int[] p2 = {70, 80, 50};\n",
    "int l2 = 100;\n",
    "\n",
    "int[] p3 = {80, 80, 70, 60, 50, 40};\n",
    "int l3 = 120;\n",
    "solution(p1, l1);"
   ]
  },
  {
   "cell_type": "markdown",
   "metadata": {},
   "source": [
    "문제에 해석의 여지가 좀 있는게\n",
    "최소 보트를 이용하여 제한 인원에 대해서 제한 무게에 맞춰서 인원을 데려간다고 하면\n",
    "보트에 태울 인원에 대해서 무게에 최적(무거운 사람, 가벼운 사람중 보트에 태울 가장 무거운 사람)인 상황을 만들어야 최대한 태워 보낼 수 있을 것으로 보인다.\n",
    "\n",
    "하지만 문제가 그리드 문제라고 드러나 있기 때문에\n",
    "최선의 대상을 선택해서 태워야 한다. \n",
    "현재 가장 무거운 사람 + (같이 태울 수 있나 없나 최선의 대상) 을 골라야 하는데\n",
    "그리드 문제이기 때문에 가장 무거운 사람 + (같이 태울 수 있는 누구나) 로 본다면\n",
    "정렬해서 가장 무거운 사람과 가장 가벼운 사람만 극단적으로 골라서 보면 된다.\n",
    "\n"
   ]
  },
  {
   "cell_type": "code",
   "execution_count": null,
   "metadata": {
    "vscode": {
     "languageId": "java"
    }
   },
   "outputs": [],
   "source": []
  }
 ],
 "metadata": {
  "kernelspec": {
   "display_name": "Java",
   "language": "java",
   "name": "java"
  },
  "language_info": {
   "codemirror_mode": "java",
   "file_extension": ".jshell",
   "mimetype": "text/x-java-source",
   "name": "Java",
   "pygments_lexer": "java",
   "version": "17.0.4.1+1"
  }
 },
 "nbformat": 4,
 "nbformat_minor": 2
}
