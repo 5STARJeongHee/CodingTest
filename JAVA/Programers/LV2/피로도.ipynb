{
 "cells": [
  {
   "cell_type": "markdown",
   "metadata": {},
   "source": [
    "# 피로도\n",
    "## 프로그래머스 2단계 완전 탐색 문제\n",
    "\n",
    "\n",
    "```html\n",
    "XX게임에는 피로도 시스템(0 이상의 정수로 표현합니다)이 있으며, 일정 피로도를 사용해서 던전을 탐험할 수 있습니다. 이때, 각 던전마다 탐험을 시작하기 위해 필요한 \"최소 필요 피로도\"와 던전 탐험을 마쳤을 때 소모되는 \"소모 피로도\"가 있습니다. \"최소 필요 피로도\"는 해당 던전을 탐험하기 위해 가지고 있어야 하는 최소한의 피로도를 나타내며, \"소모 피로도\"는 던전을 탐험한 후 소모되는 피로도를 나타냅니다. 예를 들어 \"최소 필요 피로도\"가 80, \"소모 피로도\"가 20인 던전을 탐험하기 위해서는 유저의 현재 남은 피로도는 80 이상 이어야 하며, 던전을 탐험한 후에는 피로도 20이 소모됩니다.\n",
    "\n",
    "이 게임에는 하루에 한 번씩 탐험할 수 있는 던전이 여러개 있는데, 한 유저가 오늘 이 던전들을 최대한 많이 탐험하려 합니다. 유저의 현재 피로도 k와 각 던전별 \"최소 필요 피로도\", \"소모 피로도\"가 담긴 2차원 배열 dungeons 가 매개변수로 주어질 때, 유저가 탐험할수 있는 최대 던전 수를 return 하도록 solution 함수를 완성해주세요.\n",
    "\n",
    "제한사항\n",
    "k는 1 이상 5,000 이하인 자연수입니다.\n",
    "dungeons의 세로(행) 길이(즉, 던전의 개수)는 1 이상 8 이하입니다.\n",
    "dungeons의 가로(열) 길이는 2 입니다.\n",
    "dungeons의 각 행은 각 던전의 [\"최소 필요 피로도\", \"소모 피로도\"] 입니다.\n",
    "\"최소 필요 피로도\"는 항상 \"소모 피로도\"보다 크거나 같습니다.\n",
    "\"최소 필요 피로도\"와 \"소모 피로도\"는 1 이상 1,000 이하인 자연수입니다.\n",
    "서로 다른 던전의 [\"최소 필요 피로도\", \"소모 피로도\"]가 서로 같을 수 있습니다.\n",
    "입출력 예\n",
    "k\tdungeons\tresult\n",
    "80\t[[80,20],[50,40],[30,10]]\t3\n",
    "입출력 예 설명\n",
    "현재 피로도는 80입니다.\n",
    "\n",
    "만약, 첫 번째 → 두 번째 → 세 번째 던전 순서로 탐험한다면\n",
    "\n",
    "현재 피로도는 80이며, 첫 번째 던전을 돌기위해 필요한 \"최소 필요 피로도\" 또한 80이므로, 첫 번째 던전을 탐험할 수 있습니다. 첫 번째 던전의 \"소모 피로도\"는 20이므로, 던전을 탐험한 후 남은 피로도는 60입니다.\n",
    "남은 피로도는 60이며, 두 번째 던전을 돌기위해 필요한 \"최소 필요 피로도\"는 50이므로, 두 번째 던전을 탐험할 수 있습니다. 두 번째 던전의 \"소모 피로도\"는 40이므로, 던전을 탐험한 후 남은 피로도는 20입니다.\n",
    "남은 피로도는 20이며, 세 번째 던전을 돌기위해 필요한 \"최소 필요 피로도\"는 30입니다. 따라서 세 번째 던전은 탐험할 수 없습니다.\n",
    "만약, 첫 번째 → 세 번째 → 두 번째 던전 순서로 탐험한다면\n",
    "\n",
    "현재 피로도는 80이며, 첫 번째 던전을 돌기위해 필요한 \"최소 필요 피로도\" 또한 80이므로, 첫 번째 던전을 탐험할 수 있습니다. 첫 번째 던전의 \"소모 피로도\"는 20이므로, 던전을 탐험한 후 남은 피로도는 60입니다.\n",
    "남은 피로도는 60이며, 세 번째 던전을 돌기위해 필요한 \"최소 필요 피로도\"는 30이므로, 세 번째 던전을 탐험할 수 있습니다. 세 번째 던전의 \"소모 피로도\"는 10이므로, 던전을 탐험한 후 남은 피로도는 50입니다.\n",
    "남은 피로도는 50이며, 두 번째 던전을 돌기위해 필요한 \"최소 필요 피로도\"는 50이므로, 두 번째 던전을 탐험할 수 있습니다. 두 번째 던전의 \"소모 피로도\"는 40이므로, 던전을 탐험한 후 남은 피로도는 10입니다.\n",
    "따라서 이 경우 세 던전을 모두 탐험할 수 있으며, 유저가 탐험할 수 있는 최대 던전 수는 3입니다.\n",
    "```"
   ]
  },
  {
   "cell_type": "markdown",
   "metadata": {},
   "source": [
    "최소 필요도가 높고 소모 피로도가 낮은 던전을 나열해야 많이 갈 수 있을 듯?\n",
    "\n",
    "맨위의 예시를 볼때 \n",
    "\n",
    "필요도가 높은 순으로 바로 빼면 세번째 던전을 못가게 되고\n",
    "소모 피로도가 낮은 순으로하면 첫번째 던전을 못가게 된다.\n",
    "\n",
    "정렬한다고 무조건 해결 가능하진 않은듯한데\n",
    "\n",
    "일단 데이터 크기가 최대 8개 밖에 안된다\n",
    "\n",
    "순서대로 빼서 가능한지 아닌지 파악하는거에 던전 개수가 8개면\n",
    "순열로 조합 개수만 세어봐도 40,320 개 밖에 되지 않는다.\n",
    "\n",
    "이정도 데이터 개수면 순열 조합 순으로 다 빼보면서 확인해도 될듯하다.\n",
    "\n"
   ]
  },
  {
   "cell_type": "code",
   "execution_count": 28,
   "metadata": {},
   "outputs": [],
   "source": [
    "import java.util.*;\n",
    "public int solution(int k, int[][] dungeons) {\n",
    "    int answer = -1;\n",
    "    int dataSize = dungeons.length;\n",
    "\n",
    "    HashSet<Integer[]> set = new HashSet<>();\n",
    "    int[] data = new int[dataSize];\n",
    "    for (int i = 0; i < dataSize; i++) {\n",
    "        data[i] = i;\n",
    "    }\n",
    "    permutation(data, new int[dataSize], new boolean[dataSize], 0, dataSize, set);\n",
    "\n",
    "    Iterator iter = set.iterator();\n",
    "\n",
    "    while (iter.hasNext()) {\n",
    "        Integer[] indexArr = (Integer[]) iter.next();\n",
    "        int copyK = k;\n",
    "        System.out.print(\"[\");\n",
    "        for(int i = 0; i< indexArr.length; i++) {\n",
    "            System.out.print(indexArr[i]+\", \");\n",
    "        }\n",
    "        System.out.println(\"]\");\n",
    "\n",
    "        int cnt = 0;\n",
    "        for(int i = 0; i<indexArr.length; i++ ){\n",
    "            if(dungeons[indexArr[i]][0] <= copyK){\n",
    "                copyK -= dungeons[indexArr[i]][1];\n",
    "                cnt++;\n",
    "                System.out.println(\"남은 피로도: \" + copyK);\n",
    "            } else{\n",
    "                break;\n",
    "            }\n",
    "            \n",
    "        }\n",
    "        if(cnt >= answer){\n",
    "            answer = cnt;\n",
    "        }\n",
    "    }\n",
    "    return answer;\n",
    "}"
   ]
  },
  {
   "cell_type": "code",
   "execution_count": 29,
   "metadata": {},
   "outputs": [],
   "source": [
    "// 현재 필요도 k\n",
    "// 최소 필요 피로도, 소모 피로도\n",
    "\n",
    "// 순열\n",
    "\n",
    "import java.util.*;\n",
    "public static void permutation(int[] arr, int[] output, boolean[] visited, int depth, int r, HashSet<Integer[]> result){\n",
    "    if(depth == r){\n",
    "        result.add(Arrays.stream(output.clone()).boxed().toArray(Integer[]::new));\n",
    "        return;\n",
    "    }\n",
    "\n",
    "    for(int i = 0; i < arr.length; i++){\n",
    "        if(!visited[i]) {\n",
    "            visited[i] = true;\n",
    "            output[depth] =  arr[i];\n",
    "            permutation(arr, output, visited, depth + 1, r, result);\n",
    "            visited[i] = false;\n",
    "        }\n",
    "    }\n",
    "}"
   ]
  },
  {
   "cell_type": "code",
   "execution_count": 30,
   "metadata": {},
   "outputs": [
    {
     "name": "stdout",
     "output_type": "stream",
     "text": [
      "[1, 0, 2, ]\n",
      "남은 피로도: 40\n",
      "[2, 0, 1, ]\n",
      "남은 피로도: 70\n",
      "[0, 1, 2, ]\n",
      "남은 피로도: 60\n",
      "남은 피로도: 20\n",
      "[0, 2, 1, ]\n",
      "남은 피로도: 60\n",
      "남은 피로도: 50\n",
      "남은 피로도: 10\n",
      "[1, 2, 0, ]\n",
      "남은 피로도: 40\n",
      "남은 피로도: 30\n",
      "[2, 1, 0, ]\n",
      "남은 피로도: 70\n",
      "남은 피로도: 30\n"
     ]
    },
    {
     "data": {
      "text/plain": [
       "3"
      ]
     },
     "execution_count": 30,
     "metadata": {},
     "output_type": "execute_result"
    }
   ],
   "source": [
    "int[][] arr1 = {{80,20},{50,40},{30,10}};\n",
    "\n",
    "solution(80,arr1);"
   ]
  },
  {
   "cell_type": "markdown",
   "metadata": {},
   "source": [
    "# 다른 사람 풀이\n",
    "\n",
    "```java\n",
    "class Solution {\n",
    "    public static boolean check[];\n",
    "    public static int ans = 0;\n",
    "\n",
    "    public int solution(int k, int[][] dungeons) {\n",
    "        check = new boolean[dungeons.length];\n",
    "\n",
    "        dfs(k, dungeons, 0);\n",
    "\n",
    "        return ans;\n",
    "    }\n",
    "    public static void dfs(int tired, int[][] dungeons, int cnt){\n",
    "        for(int i=0; i<dungeons.length; i++){\n",
    "            if(!check[i] && dungeons[i][0]<=tired){\n",
    "                check[i] = true;\n",
    "                dfs(tired-dungeons[i][1], dungeons, cnt+1);\n",
    "                check[i] = false;\n",
    "            }\n",
    "        }\n",
    "        ans = Math.max(ans, cnt);\n",
    "    }\n",
    "}\n",
    "```"
   ]
  },
  {
   "cell_type": "markdown",
   "metadata": {},
   "source": [
    "```html\n",
    "dfs 알고리즘을 사용하여 방문 가능한 모든 던전이 연결되어 있다는 가정하에\n",
    "모든 노드를 방문하게 하면서 모든 경로를 탐색하고 그 탐색 중간에 던전 피로도 계산을 통해서\n",
    "최대 방문 횟수를 구함\n",
    "\n",
    "\n",
    "순열은 dfs 알고리즘이었네\n",
    "```\n",
    "\n"
   ]
  },
  {
   "cell_type": "code",
   "execution_count": null,
   "metadata": {},
   "outputs": [],
   "source": []
  }
 ],
 "metadata": {
  "kernelspec": {
   "display_name": "Java",
   "language": "java",
   "name": "java"
  },
  "language_info": {
   "codemirror_mode": "java",
   "file_extension": ".jshell",
   "mimetype": "text/x-java-source",
   "name": "java",
   "pygments_lexer": "java",
   "version": "17.0.4.1+1"
  }
 },
 "nbformat": 4,
 "nbformat_minor": 2
}
