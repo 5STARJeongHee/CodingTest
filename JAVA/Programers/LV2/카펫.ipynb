{
 "cells": [
  {
   "cell_type": "markdown",
   "metadata": {},
   "source": [
    "# 카펫 \n",
    "### 프로그래머스 완전 탐색 2레벨 문제\n",
    "![img](https://grepp-programmers.s3.ap-northeast-2.amazonaws.com/files/production/b1ebb809-f333-4df2-bc81-02682900dc2d/carpet.png)\n",
    "```html\n",
    "문제 설명\n",
    "Leo는 카펫을 사러 갔다가 아래 그림과 같이 중앙에는 노란색으로 칠해져 있고 테두리 1줄은 갈색으로 칠해져 있는 격자 모양 카펫을 봤습니다.\n",
    "\n",
    "\n",
    "Leo는 집으로 돌아와서 아까 본 카펫의 노란색과 갈색으로 색칠된 격자의 개수는 기억했지만, 전체 카펫의 크기는 기억하지 못했습니다.\n",
    "\n",
    "Leo가 본 카펫에서 갈색 격자의 수 brown, 노란색 격자의 수 yellow가 매개변수로 주어질 때 카펫의 가로, 세로 크기를 순서대로 배열에 담아 return 하도록 solution 함수를 작성해주세요.\n",
    "\n",
    "제한사항\n",
    "갈색 격자의 수 brown은 8 이상 5,000 이하인 자연수입니다.\n",
    "노란색 격자의 수 yellow는 1 이상 2,000,000 이하인 자연수입니다.\n",
    "카펫의 가로 길이는 세로 길이와 같거나, 세로 길이보다 깁니다.\n",
    "입출력 예\n",
    "brown\tyellow\treturn\n",
    "10\t2\t[4, 3]\n",
    "8\t1\t[3, 3]\n",
    "24\t24\t[8, 6]\n",
    "```"
   ]
  },
  {
   "cell_type": "markdown",
   "metadata": {},
   "source": [
    "1. yellow를 brown이 감싼 형태의 사각형이 그려져야 함\n",
    "2. yellow 형태가 그려지면 brown은 자동으로 그려짐\n",
    "3. yellow 형태가 그려질때 brown으로 감쌀 수 있나 확인\n",
    "4. yellow 사각형들을 그려보려면 yellow 개수의 약수를 구해야 함\n",
    "5. "
   ]
  },
  {
   "cell_type": "code",
   "execution_count": 18,
   "metadata": {
    "vscode": {
     "languageId": "java"
    }
   },
   "outputs": [],
   "source": [
    "import java.util.*;\n",
    "public int[] solution(int brown, int yellow) {\n",
    "    int[] answer = {};\n",
    "    HashSet<Integer[]> set = new HashSet<>();\n",
    "\n",
    "    for(int i = 1; i<= Math.sqrt(yellow); i++){\n",
    "        if(yellow % i == 0){\n",
    "            set.add(new Integer[]{i, yellow/i});\n",
    "        }\n",
    "    }   \n",
    "\n",
    "    Iterator<Integer[]> iterator = set.iterator();\n",
    "\n",
    "    while(iterator.hasNext()){\n",
    "        Integer[] temp = iterator.next();\n",
    "        // yellow 4변 길이 + 4꼭지점\n",
    "        int lec_length = (temp[1] + temp[0]) * 2 + 4 ;\n",
    "        if(lec_length == brown){\n",
    "            answer = new int[]{temp[1]+2, temp[0] + 2};\n",
    "            break;\n",
    "        }\n",
    "    }\n",
    "        \n",
    "    return answer;\n",
    "}\n"
   ]
  },
  {
   "cell_type": "code",
   "execution_count": 20,
   "metadata": {
    "vscode": {
     "languageId": "java"
    }
   },
   "outputs": [
    {
     "name": "stdout",
     "output_type": "stream",
     "text": [
      "1, 24\n",
      "2, 12\n",
      "3, 8\n",
      "4, 6\n"
     ]
    },
    {
     "name": "stdout",
     "output_type": "stream",
     "text": [
      "[8, 6]\n"
     ]
    }
   ],
   "source": [
    "\n",
    "int[] result = solution(24,24);\n",
    "\n",
    "System.out.println(Arrays.toString(result));"
   ]
  },
  {
   "cell_type": "code",
   "execution_count": null,
   "metadata": {
    "vscode": {
     "languageId": "java"
    }
   },
   "outputs": [],
   "source": []
  },
  {
   "cell_type": "code",
   "execution_count": null,
   "metadata": {
    "vscode": {
     "languageId": "java"
    }
   },
   "outputs": [],
   "source": []
  },
  {
   "cell_type": "code",
   "execution_count": null,
   "metadata": {
    "vscode": {
     "languageId": "java"
    }
   },
   "outputs": [],
   "source": []
  }
 ],
 "metadata": {
  "kernelspec": {
   "display_name": "Java",
   "language": "java",
   "name": "java"
  },
  "language_info": {
   "codemirror_mode": "java",
   "file_extension": ".jshell",
   "mimetype": "text/x-java-source",
   "name": "Java",
   "pygments_lexer": "java",
   "version": "17.0.4.1+1"
  }
 },
 "nbformat": 4,
 "nbformat_minor": 2
}
