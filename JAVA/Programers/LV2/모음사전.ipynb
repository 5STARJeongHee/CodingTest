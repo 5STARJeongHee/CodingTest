{
 "cells": [
  {
   "cell_type": "markdown",
   "metadata": {},
   "source": [
    "# 모음사전\n",
    "\n",
    "## 프로그래머스 2단계 문제, 완전탐색"
   ]
  },
  {
   "cell_type": "markdown",
   "metadata": {},
   "source": [
    "'''html\n",
    "사전에 알파벳 모음 'A', 'E', 'I', 'O', 'U'만을 사용하여 만들 수 있는, 길이 5 이하의 모든 단어가 수록되어 있습니다. 사전에서 첫 번째 단어는 \"A\"이고, 그다음은 \"AA\"이며, 마지막 단어는 \"UUUUU\"입니다.\n",
    "\n",
    "단어 하나 word가 매개변수로 주어질 때, 이 단어가 사전에서 몇 번째 단어인지 return 하도록 solution 함수를 완성해주세요.\n",
    "\n",
    "제한사항\n",
    "word의 길이는 1 이상 5 이하입니다.\n",
    "word는 알파벳 대문자 'A', 'E', 'I', 'O', 'U'로만 이루어져 있습니다.\n",
    "입출력 예\n",
    "word\tresult\n",
    "\"AAAAE\"\t6\n",
    "\"AAAE\"\t10\n",
    "\"I\"\t1563\n",
    "\"EIO\"\t1189\n",
    "입출력 예 설명\n",
    "입출력 예 #1\n",
    "\n",
    "사전에서 첫 번째 단어는 \"A\"이고, 그다음은 \"AA\", \"AAA\", \"AAAA\", \"AAAAA\", \"AAAAE\", ... 와 같습니다. \"AAAAE\"는 사전에서 6번째 단어입니다.\n",
    "\n",
    "입출력 예 #2\n",
    "\n",
    "\"AAAE\"는 \"A\", \"AA\", \"AAA\", \"AAAA\", \"AAAAA\", \"AAAAE\", \"AAAAI\", \"AAAAO\", \"AAAAU\"의 다음인 10번째 단어입니다.\n",
    "\n",
    "입출력 예 #3\n",
    "\n",
    "\"I\"는 1563번째 단어입니다.\n",
    "\n",
    "입출력 예 #4\n",
    "\n",
    "\"EIO\"는 1189번째 단어입니다.\n",
    "'''"
   ]
  },
  {
   "cell_type": "markdown",
   "metadata": {},
   "source": [
    "A,E,I,O,U 는 이미 알파벳 순\n",
    "\n",
    "A 부터 UUUUU 까지는 뽑기 문제로 보면 \n",
    "\n",
    "1개 부터 5개 까지 중복 순열\n",
    "\n",
    "사전 순 정렬, \n"
   ]
  },
  {
   "cell_type": "markdown",
   "metadata": {},
   "source": []
  },
  {
   "cell_type": "code",
   "execution_count": 5,
   "metadata": {
    "vscode": {
     "languageId": "java"
    }
   },
   "outputs": [],
   "source": [
    "import java.util.*;\n",
    "import java.util.stream.Collectors;\n",
    "public int solution(String word) {\n",
    "    int answer = 0;\n",
    "    String[] keys = new String[] {\"A\", \"E\", \"I\",\"O\", \"U\"};\n",
    "    Set<String> words = new HashSet<String>();\n",
    "\n",
    "    perm(keys, \"\", words);\n",
    "\n",
    "    List<String> sortedWords = words.stream().sorted().toList();\n",
    "\n",
    "    answer = biSearch(sortedWords, word);\n",
    "    return answer + 1;\n",
    "}\n",
    "\n",
    "public void perm(String[] keys, String result, Set<String> results){\n",
    "    if(result.length() > 5){\n",
    "        return;\n",
    "    }\n",
    "    if(result.length() != 0){\n",
    "        results.add(result);\n",
    "    }\n",
    "\n",
    "\n",
    "    for(String key : keys){\n",
    "        result = result.concat(key);\n",
    "        perm(keys, result, results);\n",
    "        result = result.substring(0, result.length()-1);\n",
    "    }\n",
    "}\n",
    "\n",
    "public int biSearch(List<String> list, String word){\n",
    "    int left = 0;\n",
    "    int right = list.size();\n",
    "\n",
    "    while(left <= right) {\n",
    "        int mid = (left + right) / 2;\n",
    "\n",
    "        if(list.get(mid).compareTo(word) == 0){\n",
    "            return mid;\n",
    "        } else if(list.get(mid).compareTo(word) < 0){\n",
    "            left = mid + 1;\n",
    "        } else {\n",
    "            right = mid -1;\n",
    "        }\n",
    "    }\n",
    "    return -1;\n",
    "}"
   ]
  },
  {
   "cell_type": "code",
   "execution_count": 6,
   "metadata": {
    "vscode": {
     "languageId": "java"
    }
   },
   "outputs": [
    {
     "data": {
      "text/plain": [
       "7"
      ]
     },
     "execution_count": 6,
     "metadata": {},
     "output_type": "execute_result"
    }
   ],
   "source": [
    "solution(\"AAAAO\");"
   ]
  },
  {
   "cell_type": "code",
   "execution_count": null,
   "metadata": {
    "vscode": {
     "languageId": "java"
    }
   },
   "outputs": [],
   "source": []
  }
 ],
 "metadata": {
  "kernelspec": {
   "display_name": "Java",
   "language": "java",
   "name": "java"
  },
  "language_info": {
   "codemirror_mode": "java",
   "file_extension": ".jshell",
   "mimetype": "text/x-java-source",
   "name": "Java",
   "pygments_lexer": "java",
   "version": "17.0.4.1+1"
  }
 },
 "nbformat": 4,
 "nbformat_minor": 2
}
