{
 "cells": [
  {
   "cell_type": "markdown",
   "metadata": {},
   "source": [
    "### 1. 정의\n",
    "- 동적계획법 (DP 라고 많이 부름)\n",
    "  - 입력 크기가 작은 부분 문제들을 해결한 후, 해당 부분 문제의 해를 활용해서, 보다 큰 크기의 부분 문제를 해결, 최종적으로 전체 문제를 해결하는 알고리즘\n",
    "  - 상향식 접근법으로, 가장 최하위 해답을 구한 후, 이를 저장하고, 해당 결과값을 이용해서 상위 문제를 풀어가는 방식 \n",
    "  - Memoization 기법을 사용함\n",
    "    - Memoization (메모이제이션) 이란: 프로그램 실행 시 이전에 계산한 값을 저장하여, 다시 계산하지 않도록 하여 전체 실행 속도를 빠르게 하는 기술\n",
    "  - 문제를 잘게 쪼갤 때, 부분 문제는 중복되어, 재활용됨\n",
    "    - 예: 피보나치 수열\n",
    "- 분할 정복\n",
    "  - 문제를 나눌 수 없을 때까지 나누어서 각각을 풀면서 다시 합병하여 문제의 답을 얻는 알고리즘\n",
    "  - 하양식 접근법으로, 상위의 해답을 구하기 위해, 아래로 내려가면서 하위의 해답을 구하는 방식\n",
    "    - 일반적으로 재귀함수로 구현\n",
    "  - 문제를 잘게 쪼갤 때, 부분 문제는 서로 중복되지 않음\n",
    "    - 예: 병합 정렬, 퀵 정렬 등"
   ]
  },
  {
   "cell_type": "markdown",
   "metadata": {},
   "source": [
    "### 2. 공통점과 차이점\n",
    "- 공통점\n",
    "  - 문제를 잘게 쪼개서, 가장 작은 단위로 분할\n",
    "- 차이점\n",
    "  - 동적 계획법\n",
    "    - 부분 문제는 중복되어, 상위 문제 해결 시 재활용됨\n",
    "    - Memoization 기법 사용 (부분 문제의 해답을 저장해서 재활용하는 최적화 기법으로 사용)\n",
    "  - 분할 정복\n",
    "    - 부분 문제는 서로 중복되지 않음\n",
    "    - Memoization 기법 사용 안함"
   ]
  },
  {
   "cell_type": "markdown",
   "metadata": {},
   "source": [
    "## 피보나치 수열\n",
    "### 분할정복, DP로 표현하기\n",
    "<img src=\"https://www.fun-coding.org/00_Images/Fibonacci.png\" />"
   ]
  },
  {
   "cell_type": "code",
   "execution_count": 9,
   "metadata": {},
   "outputs": [],
   "source": [
    "import java.util.ArrayList;\n",
    "import java.util.Collections;\n",
    "\n",
    "public class Fibonacci {\n",
    "    public static Integer recursiv_fibonacci(Integer n){\n",
    "        if(n <0){\n",
    "            return 0;\n",
    "        }\n",
    "        if (n <= 1){\n",
    "            return n;\n",
    "        }\n",
    "\n",
    "        return recursiv_fibonacci(n-1) + recursiv_fibonacci(n-2);\n",
    "    }\n",
    "\n",
    "    public static Integer dp_fibonacci(Integer n) {\n",
    "        ArrayList<Integer> arr = new ArrayList();\n",
    "        arr.add(0);\n",
    "        arr.add(1);\n",
    "        if(n <= 1){\n",
    "            return arr.get(n);\n",
    "        }\n",
    "        for(int i = 2; i<n+1; i++){\n",
    "            arr.add(arr.get(i-1) + arr.get(i-2));\n",
    "        }\n",
    "        return arr.get(n);\n",
    "    }\n",
    "}\n",
    "\n"
   ]
  },
  {
   "cell_type": "code",
   "execution_count": 7,
   "metadata": {},
   "outputs": [
    {
     "data": {
      "text/plain": [
       "8"
      ]
     },
     "execution_count": 7,
     "metadata": {},
     "output_type": "execute_result"
    }
   ],
   "source": [
    "\n",
    "Fibonacci.recursiv_fibonacci(6);"
   ]
  },
  {
   "cell_type": "code",
   "execution_count": 10,
   "metadata": {},
   "outputs": [
    {
     "data": {
      "text/plain": [
       "8"
      ]
     },
     "execution_count": 10,
     "metadata": {},
     "output_type": "execute_result"
    }
   ],
   "source": [
    "Fibonacci.dp_fibonacci(6);"
   ]
  }
 ],
 "metadata": {
  "kernelspec": {
   "display_name": "base",
   "language": "python",
   "name": "python3"
  },
  "language_info": {
   "codemirror_mode": "java",
   "file_extension": ".jshell",
   "mimetype": "text/x-java-source",
   "name": "python",
   "pygments_lexer": "java",
   "version": "3.9.17"
  },
  "orig_nbformat": 4,
  "vscode": {
   "interpreter": {
    "hash": "27682476a494b2d0cb0210eb09f7dae4f44f6935d4739ee0a808fc5af13a7f8f"
   }
  }
 },
 "nbformat": 4,
 "nbformat_minor": 2
}
