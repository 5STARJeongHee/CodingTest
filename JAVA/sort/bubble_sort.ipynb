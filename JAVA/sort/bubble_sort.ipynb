{
 "cells": [
  {
   "cell_type": "markdown",
   "metadata": {},
   "source": [
    "### 버블 정렬\n",
    "\n",
    "1. 매번 처음부터 순회\n",
    "2. 매칸마다 현재칸과 다음칸을 비교하며 큰수를 뒤로 swap\n",
    "3. 한번 순회할 때마다 큰수가 뒤에서 정렬 된다.\n",
    "4. 다음 순회시 뒤에 큰수가 하나씩 정렬되므로 1칸씩 조회하는 수가 준다."
   ]
  },
  {
   "cell_type": "code",
   "execution_count": null,
   "metadata": {},
   "outputs": [],
   "source": [
    "\n",
    "import java.util.ArrayList;\n",
    "import java.util.Collections;\n",
    "\n",
    "public class BubbleSort {\n",
    "    public ArrayList<Integer> sort(ArrayList<Integer> dataList) {\n",
    "        for (int i = 0; i< dataList.size() -1 ; i++){\n",
    "            for (int j = 0; j< dataList.size() -i -1; j++ ){\n",
    "                if(dataList.get(j) > dataList.get(j+1)){\n",
    "                    Collections.swap(dataList, j,j+1);\n",
    "                }\n",
    "            }\n",
    "        }\n",
    "\n",
    "        return dataList;\n",
    "    }\n",
    "}\n",
    "\n",
    "ArrayList<Integer> dataList = new ArrayList<>();\n",
    "dataList.add(4);\n",
    "dataList.add(3);\n",
    "dataList.add(2);\n",
    "dataList.add(8);\n",
    "dataList.add(6);\n",
    "\n",
    "BubbleSort bubble = new BubbleSort();\n",
    "bubble.sort(dataList);"
   ]
  },
  {
   "cell_type": "code",
   "execution_count": null,
   "metadata": {},
   "outputs": [],
   "source": []
  }
 ],
 "metadata": {
  "kernelspec": {
   "display_name": "Java",
   "language": "java",
   "name": "java"
  },
  "language_info": {
   "name": "java",
   "version": "3.9.12"
  },
  "orig_nbformat": 4,
  "vscode": {
   "interpreter": {
    "hash": "27682476a494b2d0cb0210eb09f7dae4f44f6935d4739ee0a808fc5af13a7f8f"
   }
  }
 },
 "nbformat": 4,
 "nbformat_minor": 2
}
