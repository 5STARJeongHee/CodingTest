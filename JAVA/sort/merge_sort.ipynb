{
 "cells": [
  {
   "cell_type": "markdown",
   "metadata": {},
   "source": [
    "## 병합정렬(Merge Sort)\n",
    "\n",
    "- Divide and Conquer 를 이용한 정렬\n",
    "    1. 정렬할 리스트를 재귀용법을 이용하여 계속해서 반으로 나눔\n",
    "    2. 나뉜 리스트들을 재귀하여 돌아올 때 정렬하며 합침"
   ]
  },
  {
   "cell_type": "markdown",
   "metadata": {},
   "source": [
    "<img src=\"https://upload.wikimedia.org/wikipedia/commons/c/cc/Merge-sort-example-300px.gif\" width=500/>\n",
    "\n",
    "출처: 위키"
   ]
  },
  {
   "cell_type": "markdown",
   "metadata": {},
   "source": [
    "위의 그림대로 병합정렬은 다음과 같은 과정을 거친다\n",
    "\n",
    "(오름차순 정렬)\n",
    "1. 리스트를 1개의 값만 가진 리스트가 남을 때까지 재귀적으로 나눈다.\n",
    "2. 나눈 리스트를 2개씩 병합을 할 때 정렬을 시도\n",
    "    1. 왼쪽 리스트와 오른쪽 리스트의 각각 위치를 참조하여 작은 순서대로 합친다.\n",
    "    2. 왼쪽 리스트와 오른쪽 리스트의 길이가 다를 경우\n",
    "        1. 왼쪽이 더 길경우 -> 왼쪽 리스트가 남음 -> 남은 리스트는 이미 정렬된 상태로 병합된 리스트 뒤에 그대로 붙인다.\n",
    "        2. 오른쪽이 더 길경우 -> 오른쪽 리스트가 남음 -> 남은 리스트는 이미 정렬된 상태로 병합된 리스트 뒤에 그대로 붙인다."
   ]
  },
  {
   "cell_type": "code",
   "execution_count": 8,
   "metadata": {},
   "outputs": [],
   "source": [
    "\n",
    "public class MergeSort {\n",
    "    public List<Integer> splitAndMerge(List<Integer> arr){\n",
    "        if(arr.size() == 1){\n",
    "            return arr;\n",
    "        }\n",
    "        int mid = arr.size() / 2;\n",
    "\n",
    "        List<Integer> left = splitAndMerge(arr.subList(0, mid));\n",
    "        List<Integer> right = splitAndMerge(arr.subList(mid, arr.size()));\n",
    "\n",
    "        return merge(left, right);\n",
    "    }\n",
    "\n",
    "    public List<Integer> merge(List<Integer> left, List<Integer> right){\n",
    "        List<Integer> merged = new ArrayList<>();\n",
    "        \n",
    "        int left_index = 0;\n",
    "        int right_index = 0;\n",
    "\n",
    "        // 왼쪽 오른쪽 모두 길이가 남은 경우\n",
    "        while(left_index != left.size() && right_index != right.size()){\n",
    "            if(left.get(left_index) < right.get(right_index)){\n",
    "                merged.add(left.get(left_index));\n",
    "                left_index++;\n",
    "            }else{\n",
    "                merged.add(right.get(right_index));\n",
    "                right_index++;\n",
    "            }\n",
    "        }\n",
    "        // 왼쪽이 더 긴경우\n",
    "        while(left_index != left.size()){\n",
    "            merged.add(left.get(left_index));\n",
    "            left_index++;\n",
    "        }\n",
    "        // 오른쪽이 더 긴경우\n",
    "        while(right_index != right.size()){\n",
    "            merged.add(right.get(right_index));\n",
    "            right_index++;\n",
    "        }\n",
    "        return merged;\n",
    "    } \n",
    "}"
   ]
  },
  {
   "cell_type": "code",
   "execution_count": 14,
   "metadata": {},
   "outputs": [
    {
     "data": {
      "text/plain": [
       "[1, 1, 3, 8, 9, 11, 14, 15, 15, 17, 19, 19, 20, 20, 21, 26, 29, 35, 41, 41, 42, 44, 46, 48, 52, 54, 57, 58, 59, 60, 65, 67, 68, 68, 72, 72, 74, 78, 80, 86, 86, 90, 90, 90, 92, 94, 95, 95, 96, 99]"
      ]
     },
     "execution_count": 14,
     "metadata": {},
     "output_type": "execute_result"
    }
   ],
   "source": [
    "List<Integer> arr = new ArrayList<>();\n",
    "\n",
    "for(int i = 0; i<50; i++){\n",
    "    arr.add((int)(Math.random() * 100));\n",
    "}\n",
    "\n",
    "MergeSort mergeSort = new MergeSort();\n",
    "mergeSort.splitAndMerge(arr);"
   ]
  }
 ],
 "metadata": {
  "kernelspec": {
   "display_name": "Java",
   "language": "java",
   "name": "java"
  },
  "language_info": {
   "codemirror_mode": "java",
   "file_extension": ".jshell",
   "mimetype": "text/x-java-source",
   "name": "java",
   "pygments_lexer": "java",
   "version": "17.0.4.1+1"
  },
  "orig_nbformat": 4
 },
 "nbformat": 4,
 "nbformat_minor": 2
}
