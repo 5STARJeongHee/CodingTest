{
 "cells": [
  {
   "cell_type": "markdown",
   "metadata": {},
   "source": [
    "## 삽입 정렬\n",
    "\n",
    "* 삽입 정렬은 두 번째 인덱스부터 시작\n",
    "* 해당 인덱스(key 값) 앞에 있는 데이터(B)부터 비교해서 key 값이 더 작으면, B값을 뒤 인덱스로 복사\n",
    "* 이를 key 값이 더 큰 데이터를 만날때까지 반복, 그리고 큰 데이터를 만난 위치 바로 뒤에 key 값을 이동\n",
    "\n",
    "<img src=\"https://upload.wikimedia.org/wikipedia/commons/9/9c/Insertion-sort-example.gif\" />\n",
    "\n",
    "> 출처: https://commons.wikimedia.org/wiki/File:Insertion-sort-example.gif"
   ]
  },
  {
   "cell_type": "code",
   "execution_count": 6,
   "metadata": {
    "vscode": {
     "languageId": "java"
    }
   },
   "outputs": [],
   "source": [
    "import java.util.ArrayList;\n",
    "import java.util.Collections;\n",
    "\n",
    "public class InsertionSort {\n",
    "    public static ArrayList<Integer> sort(ArrayList<Integer> arr){\n",
    "        for(int i = 1; i<arr.size(); i++){\n",
    "            for(int j = i; j > 0; j--){\n",
    "                if(arr.get(j) < arr.get(j-1)){\n",
    "                    Collections.swap(arr,j,j-1);\n",
    "                }\n",
    "            }\n",
    "        }\n",
    "        return arr;\n",
    "    }\n",
    "\n",
    "}\n",
    "\n"
   ]
  },
  {
   "cell_type": "code",
   "execution_count": 7,
   "metadata": {
    "vscode": {
     "languageId": "java"
    }
   },
   "outputs": [
    {
     "data": {
      "text/plain": [
       "[2, 2, 2, 5, 6, 7, 9, 10, 12, 12, 14, 14, 15, 15, 16, 19, 20, 21, 21, 22, 22, 24, 24, 24, 26, 26, 26, 28, 29, 33, 34, 35, 36, 38, 40, 40, 41, 41, 41, 42, 43, 45, 47, 47, 48, 49, 49, 49, 50, 50, 52, 53, 53, 55, 57, 62, 62, 62, 62, 64, 64, 67, 67, 67, 67, 67, 67, 68, 69, 71, 72, 72, 73, 73, 73, 76, 78, 80, 83, 84, 85, 85, 87, 87, 87, 87, 88, 90, 90, 92, 93, 94, 95, 95, 95, 97, 98, 98, 99, 99]"
      ]
     },
     "execution_count": 7,
     "metadata": {},
     "output_type": "execute_result"
    }
   ],
   "source": [
    "ArrayList<Integer> testData = new ArrayList<Integer>();\n",
    "\n",
    "for (int index = 0; index < 100; index++) {\n",
    "    testData.add((int)(Math.random() * 100));\n",
    "}\n",
    "\n",
    "InsertionSort.sort(testData);"
   ]
  }
 ],
 "metadata": {
  "kernelspec": {
   "display_name": "Java",
   "language": "java",
   "name": "java"
  },
  "language_info": {
   "codemirror_mode": "java",
   "file_extension": ".jshell",
   "mimetype": "text/x-java-source",
   "name": "Java",
   "pygments_lexer": "java",
   "version": "17.0.4.1+1"
  },
  "orig_nbformat": 4,
  "vscode": {
   "interpreter": {
    "hash": "27682476a494b2d0cb0210eb09f7dae4f44f6935d4739ee0a808fc5af13a7f8f"
   }
  }
 },
 "nbformat": 4,
 "nbformat_minor": 2
}
