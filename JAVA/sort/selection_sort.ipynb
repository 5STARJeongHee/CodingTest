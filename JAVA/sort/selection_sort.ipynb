{
 "cells": [
  {
   "cell_type": "markdown",
   "metadata": {},
   "source": [
    "## 선택정렬\n",
    "\n",
    "1. 정렬되지 않은 모든 칸을 순회한다.\n",
    "2. 매 순회시 정렬되지 않은 칸 중에 가장 작은 수를 선택해서 정렬되지 않은 제일 앞칸과 swap"
   ]
  },
  {
   "cell_type": "code",
   "execution_count": 1,
   "metadata": {
    "vscode": {
     "languageId": "java"
    }
   },
   "outputs": [
    {
     "data": {
      "text/plain": [
       "[6, 7, 8, 13, 16, 39, 59, 74, 74, 97]"
      ]
     },
     "execution_count": 1,
     "metadata": {},
     "output_type": "execute_result"
    }
   ],
   "source": [
    "// me\n",
    "import java.util.ArrayList;\n",
    "import java.util.Collections;\n",
    "\n",
    "public class SelectionSort{\n",
    "    public ArrayList sort(ArrayList<Integer> dataList) {\n",
    "        for(int i = 0; i < dataList.size() -1; i++){\n",
    "            int min_idx = i;\n",
    "            for (int j = i; j < dataList.size(); j++){ // 정렬되지 않은 모든 칸 순회\n",
    "                if(dataList.get(j) < dataList.get(min_idx)){ // 정렬되지 않은 칸 중 제일 작은 수 찾기\n",
    "                    min_idx = j;\n",
    "                }\n",
    "            }\n",
    "            Collections.swap(dataList,i, min_idx); // 정렬되지 않은 칸 중 제일 앞칸과 교환\n",
    "        }\n",
    "        return dataList;\n",
    "    }\n",
    "}\n",
    "\n",
    "SelectionSort select = new SelectionSort();\n",
    "\n",
    "ArrayList<Integer> dataList = new ArrayList<>();\n",
    "\n",
    "for(int i = 0; i <10; i++ ){\n",
    "    dataList.add((int)(Math.random()*100));\n",
    "}\n",
    "\n",
    "select.sort(dataList);"
   ]
  }
 ],
 "metadata": {
  "kernelspec": {
   "display_name": "Java",
   "language": "java",
   "name": "java"
  },
  "language_info": {
   "codemirror_mode": "java",
   "file_extension": ".jshell",
   "mimetype": "text/x-java-source",
   "name": "Java",
   "pygments_lexer": "java",
   "version": "17.0.4.1+1"
  },
  "orig_nbformat": 4
 },
 "nbformat": 4,
 "nbformat_minor": 2
}
